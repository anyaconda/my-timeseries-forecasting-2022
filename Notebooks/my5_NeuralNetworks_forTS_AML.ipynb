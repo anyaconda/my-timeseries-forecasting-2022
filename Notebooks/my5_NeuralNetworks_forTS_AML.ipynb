{
  "cells": [
    {
      "cell_type": "code",
      "source": [
        "#meta: 6/29/2022 Ch 5. Intro to Neural Networks for Time Series Forecasting\r\n",
        "#book: Machine Learning for Time Series Forecasting with Python  \r\n",
        "#author: Francesca Lazzeri, PhD.  \r\n",
        "#forked from FrancescaLazzeri https://github.com/FrancescaLazzeri/Machine-Learning-for-Time-Series-Forecasting  \r\n",
        "\r\n",
        "#infra: AML anya-ml\r\n",
        "#env azureml-timeseriesbook: Python 3.6.13 (per original env file: environment-aml.yml w/custom steps in installation doced in my 1Note)\r\n",
        "#numpy 1.18.5, pandas 1.1.1, matplotlib 3.1.1, scikit-learn 0.22.2.post1 (did run pip freeze sklearn)\r\n",
        "#statsmodels 0.11.1\r\n",
        "\r\n",
        "#history\r\n",
        "# my work through code is marked with `$my`\r\n",
        "#6/29/2022 DEEP LEARNING\r\n",
        "#      reuse env timeseriesbook\r\n",
        "#      NeuralNet and Multivariate Model (1st take just like the book\r\n",
        "#      ts predict w/ horizon (as opposed to forecast)\r\n",
        "#      ts model evaluations\r\n",
        "#next: review "
      ],
      "outputs": [],
      "execution_count": null,
      "metadata": {
        "jupyter": {
          "source_hidden": false,
          "outputs_hidden": false
        },
        "nteract": {
          "transient": {
            "deleting": false
          }
        }
      }
    },
    {
      "cell_type": "code",
      "source": [
        "#$my python version \r\n",
        "import sys\r\n",
        "print(sys.version)"
      ],
      "outputs": [
        {
          "output_type": "stream",
          "name": "stdout",
          "text": "3.6.13 |Anaconda, Inc.| (default, Jun  4 2021, 14:25:59) \n[GCC 7.5.0]\n"
        }
      ],
      "execution_count": 57,
      "metadata": {
        "jupyter": {
          "source_hidden": false,
          "outputs_hidden": false
        },
        "nteract": {
          "transient": {
            "deleting": false
          }
        },
        "gather": {
          "logged": 1656559576729
        }
      }
    },
    {
      "cell_type": "markdown",
      "source": [
        "# Chapter 5 - Introduction to Neural Networks for Time Series Forecasting"
      ],
      "metadata": {}
    },
    {
      "cell_type": "code",
      "source": [
        "import datetime as dt\n",
        "import os\n",
        "import warnings\n",
        "from collections import UserDict\n",
        "\n",
        "import matplotlib.pyplot as plt\n",
        "import numpy as np\n",
        "import pandas as pd\n",
        "from common.utils import load_data, mape\n",
        "from IPython.display import Image\n",
        "from sklearn.preprocessing import MinMaxScaler\n",
        "\n",
        "%matplotlib inline"
      ],
      "outputs": [],
      "execution_count": 1,
      "metadata": {
        "gather": {
          "logged": 1656534590968
        }
      }
    },
    {
      "cell_type": "code",
      "source": [
        "pd.options.display.float_format = \"{:,.2f}\".format\n",
        "np.set_printoptions(precision=2)\n",
        "warnings.filterwarnings(\"ignore\")"
      ],
      "outputs": [],
      "execution_count": 2,
      "metadata": {
        "gather": {
          "logged": 1656534591335
        }
      }
    },
    {
      "cell_type": "markdown",
      "source": [
        "## 0. Load Data\r\n",
        "GEFCom 2014 energy load data  \r\n",
        "from a local file"
      ],
      "metadata": {
        "nteract": {
          "transient": {
            "deleting": false
          }
        }
      }
    },
    {
      "cell_type": "code",
      "source": [
        "data_dir = \"data/\"\n",
        "ts_data_load = load_data(data_dir)[[\"load\"]]\n",
        "ts_data_load.head()"
      ],
      "outputs": [
        {
          "output_type": "execute_result",
          "execution_count": 3,
          "data": {
            "text/plain": "                        load\n2012-01-01 00:00:00 2,698.00\n2012-01-01 01:00:00 2,558.00\n2012-01-01 02:00:00 2,444.00\n2012-01-01 03:00:00 2,402.00\n2012-01-01 04:00:00 2,403.00",
            "text/html": "<div>\n<style scoped>\n    .dataframe tbody tr th:only-of-type {\n        vertical-align: middle;\n    }\n\n    .dataframe tbody tr th {\n        vertical-align: top;\n    }\n\n    .dataframe thead th {\n        text-align: right;\n    }\n</style>\n<table border=\"1\" class=\"dataframe\">\n  <thead>\n    <tr style=\"text-align: right;\">\n      <th></th>\n      <th>load</th>\n    </tr>\n  </thead>\n  <tbody>\n    <tr>\n      <th>2012-01-01 00:00:00</th>\n      <td>2,698.00</td>\n    </tr>\n    <tr>\n      <th>2012-01-01 01:00:00</th>\n      <td>2,558.00</td>\n    </tr>\n    <tr>\n      <th>2012-01-01 02:00:00</th>\n      <td>2,444.00</td>\n    </tr>\n    <tr>\n      <th>2012-01-01 03:00:00</th>\n      <td>2,402.00</td>\n    </tr>\n    <tr>\n      <th>2012-01-01 04:00:00</th>\n      <td>2,403.00</td>\n    </tr>\n  </tbody>\n</table>\n</div>"
          },
          "metadata": {}
        }
      ],
      "execution_count": 3,
      "metadata": {
        "gather": {
          "logged": 1656534591839
        }
      }
    },
    {
      "cell_type": "markdown",
      "source": [
        "## 1. Data Prep"
      ],
      "metadata": {
        "nteract": {
          "transient": {
            "deleting": false
          }
        }
      }
    },
    {
      "cell_type": "code",
      "source": [
        "valid_st_data_load = \"2014-09-01 00:00:00\"\n",
        "test_st_data_load = \"2014-11-01 00:00:00\""
      ],
      "outputs": [],
      "execution_count": 4,
      "metadata": {
        "gather": {
          "logged": 1656534592084
        }
      }
    },
    {
      "cell_type": "code",
      "source": [
        "ts_data_load[ts_data_load.index < valid_st_data_load][[\"load\"]].rename(columns={\"load\": \"train\"}).join(\n",
        "    ts_data_load[(ts_data_load.index >= valid_st_data_load) & (ts_data_load.index < test_st_data_load)][\n",
        "        [\"load\"]\n",
        "    ].rename(columns={\"load\": \"validation\"}),\n",
        "    how=\"outer\",\n",
        ").join(\n",
        "    ts_data_load[test_st_data_load:][[\"load\"]].rename(columns={\"load\": \"test\"}), how=\"outer\"\n",
        ").plot(\n",
        "    y=[\"train\", \"validation\", \"test\"], figsize=(15, 8), fontsize=12\n",
        ")\n",
        "plt.xlabel(\"timestamp\", fontsize=12)\n",
        "plt.ylabel(\"load\", fontsize=12)\n",
        "plt.show()"
      ],
      "outputs": [
        {
          "output_type": "display_data",
          "data": {
            "text/plain": "<Figure size 1080x576 with 1 Axes>",
            "image/png": "[encoded data removed]"
          },
          "metadata": {
            "needs_background": "light"
          }
        }
      ],
      "execution_count": 5,
      "metadata": {
        "gather": {
          "logged": 1656534592336
        }
      }
    },
    {
      "cell_type": "code",
      "source": [
        "T = 6\n",
        "HORIZON = 1\n",
        "train = ts_data_load.copy()[ts_data_load.index < valid_st_data_load][[\"load\"]]\n",
        "\n",
        "scaler = MinMaxScaler()\n",
        "train[\"load\"] = scaler.fit_transform(train)\n",
        "\n",
        "train_shifted = train.copy()\n",
        "train_shifted[\"y_t+1\"] = train_shifted[\"load\"].shift(-1, freq=\"H\")\n",
        "for t in range(1, T + 1):\n",
        "    train_shifted[str(T - t)] = train_shifted[\"load\"].shift(T - t, freq=\"H\")\n",
        "y_col = \"y_t+1\"\n",
        "X_cols = [\"load_t-5\", \"load_t-4\", \"load_t-3\", \"load_t-2\", \"load_t-1\", \"load_t\"]\n",
        "train_shifted.columns = [\"load_original\"] + [y_col] + X_cols\n",
        "\n",
        "train_shifted = train_shifted.dropna(how=\"any\")\n",
        "train_shifted.head(5)"
      ],
      "outputs": [
        {
          "output_type": "execute_result",
          "execution_count": 6,
          "data": {
            "text/plain": "                     load_original  y_t+1  load_t-5  load_t-4  load_t-3  \\\n2012-01-01 05:00:00           0.15   0.18      0.22      0.18      0.14   \n2012-01-01 06:00:00           0.18   0.23      0.18      0.14      0.13   \n2012-01-01 07:00:00           0.23   0.29      0.14      0.13      0.13   \n2012-01-01 08:00:00           0.29   0.35      0.13      0.13      0.15   \n2012-01-01 09:00:00           0.35   0.37      0.13      0.15      0.18   \n\n                     load_t-2  load_t-1  load_t  \n2012-01-01 05:00:00      0.13      0.13    0.15  \n2012-01-01 06:00:00      0.13      0.15    0.18  \n2012-01-01 07:00:00      0.15      0.18    0.23  \n2012-01-01 08:00:00      0.18      0.23    0.29  \n2012-01-01 09:00:00      0.23      0.29    0.35  ",
            "text/html": "<div>\n<style scoped>\n    .dataframe tbody tr th:only-of-type {\n        vertical-align: middle;\n    }\n\n    .dataframe tbody tr th {\n        vertical-align: top;\n    }\n\n    .dataframe thead th {\n        text-align: right;\n    }\n</style>\n<table border=\"1\" class=\"dataframe\">\n  <thead>\n    <tr style=\"text-align: right;\">\n      <th></th>\n      <th>load_original</th>\n      <th>y_t+1</th>\n      <th>load_t-5</th>\n      <th>load_t-4</th>\n      <th>load_t-3</th>\n      <th>load_t-2</th>\n      <th>load_t-1</th>\n      <th>load_t</th>\n    </tr>\n  </thead>\n  <tbody>\n    <tr>\n      <th>2012-01-01 05:00:00</th>\n      <td>0.15</td>\n      <td>0.18</td>\n      <td>0.22</td>\n      <td>0.18</td>\n      <td>0.14</td>\n      <td>0.13</td>\n      <td>0.13</td>\n      <td>0.15</td>\n    </tr>\n    <tr>\n      <th>2012-01-01 06:00:00</th>\n      <td>0.18</td>\n      <td>0.23</td>\n      <td>0.18</td>\n      <td>0.14</td>\n      <td>0.13</td>\n      <td>0.13</td>\n      <td>0.15</td>\n      <td>0.18</td>\n    </tr>\n    <tr>\n      <th>2012-01-01 07:00:00</th>\n      <td>0.23</td>\n      <td>0.29</td>\n      <td>0.14</td>\n      <td>0.13</td>\n      <td>0.13</td>\n      <td>0.15</td>\n      <td>0.18</td>\n      <td>0.23</td>\n    </tr>\n    <tr>\n      <th>2012-01-01 08:00:00</th>\n      <td>0.29</td>\n      <td>0.35</td>\n      <td>0.13</td>\n      <td>0.13</td>\n      <td>0.15</td>\n      <td>0.18</td>\n      <td>0.23</td>\n      <td>0.29</td>\n    </tr>\n    <tr>\n      <th>2012-01-01 09:00:00</th>\n      <td>0.35</td>\n      <td>0.37</td>\n      <td>0.13</td>\n      <td>0.15</td>\n      <td>0.18</td>\n      <td>0.23</td>\n      <td>0.29</td>\n      <td>0.35</td>\n    </tr>\n  </tbody>\n</table>\n</div>"
          },
          "metadata": {}
        }
      ],
      "execution_count": 6,
      "metadata": {
        "gather": {
          "logged": 1656534592799
        }
      }
    },
    {
      "cell_type": "code",
      "source": [
        "y_train = train_shifted[y_col].to_numpy()\n",
        "X_train = train_shifted[X_cols].to_numpy()"
      ],
      "outputs": [],
      "execution_count": 7,
      "metadata": {
        "lines_to_next_cell": 0,
        "gather": {
          "logged": 1656534593147
        }
      }
    },
    {
      "cell_type": "code",
      "source": [
        "X_train = X_train.reshape(X_train.shape[0], T, 1)"
      ],
      "outputs": [],
      "execution_count": 8,
      "metadata": {
        "gather": {
          "logged": 1656534595474
        }
      }
    },
    {
      "cell_type": "code",
      "source": [
        "y_train.shape"
      ],
      "outputs": [
        {
          "output_type": "execute_result",
          "execution_count": 9,
          "data": {
            "text/plain": "(23370,)"
          },
          "metadata": {}
        }
      ],
      "execution_count": 9,
      "metadata": {
        "gather": {
          "logged": 1656534598599
        }
      }
    },
    {
      "cell_type": "code",
      "source": [
        "y_train[:3]"
      ],
      "outputs": [
        {
          "output_type": "execute_result",
          "execution_count": 10,
          "data": {
            "text/plain": "array([0.18, 0.23, 0.29])"
          },
          "metadata": {}
        }
      ],
      "execution_count": 10,
      "metadata": {
        "gather": {
          "logged": 1656534602309
        }
      }
    },
    {
      "cell_type": "code",
      "source": [
        "X_train.shape"
      ],
      "outputs": [
        {
          "output_type": "execute_result",
          "execution_count": 11,
          "data": {
            "text/plain": "(23370, 6, 1)"
          },
          "metadata": {}
        }
      ],
      "execution_count": 11,
      "metadata": {
        "gather": {
          "logged": 1656534604759
        }
      }
    },
    {
      "cell_type": "code",
      "source": [
        "X_train[:3]"
      ],
      "outputs": [
        {
          "output_type": "execute_result",
          "execution_count": 12,
          "data": {
            "text/plain": "array([[[0.22],\n        [0.18],\n        [0.14],\n        [0.13],\n        [0.13],\n        [0.15]],\n\n       [[0.18],\n        [0.14],\n        [0.13],\n        [0.13],\n        [0.15],\n        [0.18]],\n\n       [[0.14],\n        [0.13],\n        [0.13],\n        [0.15],\n        [0.18],\n        [0.23]]])"
          },
          "metadata": {}
        }
      ],
      "execution_count": 12,
      "metadata": {
        "gather": {
          "logged": 1656534607768
        }
      }
    },
    {
      "cell_type": "code",
      "source": [
        "train_shifted.head(3)"
      ],
      "outputs": [
        {
          "output_type": "execute_result",
          "execution_count": 13,
          "data": {
            "text/plain": "                     load_original  y_t+1  load_t-5  load_t-4  load_t-3  \\\n2012-01-01 05:00:00           0.15   0.18      0.22      0.18      0.14   \n2012-01-01 06:00:00           0.18   0.23      0.18      0.14      0.13   \n2012-01-01 07:00:00           0.23   0.29      0.14      0.13      0.13   \n\n                     load_t-2  load_t-1  load_t  \n2012-01-01 05:00:00      0.13      0.13    0.15  \n2012-01-01 06:00:00      0.13      0.15    0.18  \n2012-01-01 07:00:00      0.15      0.18    0.23  ",
            "text/html": "<div>\n<style scoped>\n    .dataframe tbody tr th:only-of-type {\n        vertical-align: middle;\n    }\n\n    .dataframe tbody tr th {\n        vertical-align: top;\n    }\n\n    .dataframe thead th {\n        text-align: right;\n    }\n</style>\n<table border=\"1\" class=\"dataframe\">\n  <thead>\n    <tr style=\"text-align: right;\">\n      <th></th>\n      <th>load_original</th>\n      <th>y_t+1</th>\n      <th>load_t-5</th>\n      <th>load_t-4</th>\n      <th>load_t-3</th>\n      <th>load_t-2</th>\n      <th>load_t-1</th>\n      <th>load_t</th>\n    </tr>\n  </thead>\n  <tbody>\n    <tr>\n      <th>2012-01-01 05:00:00</th>\n      <td>0.15</td>\n      <td>0.18</td>\n      <td>0.22</td>\n      <td>0.18</td>\n      <td>0.14</td>\n      <td>0.13</td>\n      <td>0.13</td>\n      <td>0.15</td>\n    </tr>\n    <tr>\n      <th>2012-01-01 06:00:00</th>\n      <td>0.18</td>\n      <td>0.23</td>\n      <td>0.18</td>\n      <td>0.14</td>\n      <td>0.13</td>\n      <td>0.13</td>\n      <td>0.15</td>\n      <td>0.18</td>\n    </tr>\n    <tr>\n      <th>2012-01-01 07:00:00</th>\n      <td>0.23</td>\n      <td>0.29</td>\n      <td>0.14</td>\n      <td>0.13</td>\n      <td>0.13</td>\n      <td>0.15</td>\n      <td>0.18</td>\n      <td>0.23</td>\n    </tr>\n  </tbody>\n</table>\n</div>"
          },
          "metadata": {}
        }
      ],
      "execution_count": 13,
      "metadata": {
        "gather": {
          "logged": 1656534610983
        }
      }
    },
    {
      "cell_type": "code",
      "source": [
        "look_back_dt = dt.datetime.strptime(valid_st_data_load, \"%Y-%m-%d %H:%M:%S\") - dt.timedelta(\n",
        "    hours=T - 1\n",
        ")\n",
        "valid = ts_data_load.copy()[(ts_data_load.index >= look_back_dt) & (ts_data_load.index < test_st_data_load)][\n",
        "    [\"load\"]\n",
        "]\n",
        "\n",
        "valid[\"load\"] = scaler.transform(valid)\n",
        "\n",
        "valid_shifted = valid.copy()\n",
        "valid_shifted[\"y+1\"] = valid_shifted[\"load\"].shift(-1, freq=\"H\")\n",
        "for t in range(1, T + 1):\n",
        "    valid_shifted[\"load_t-\" + str(T - t)] = valid_shifted[\"load\"].shift(T - t, freq=\"H\")\n",
        "\n",
        "valid_shifted = valid_shifted.dropna(how=\"any\")\n",
        "valid_shifted.head(3)"
      ],
      "outputs": [
        {
          "output_type": "execute_result",
          "execution_count": 14,
          "data": {
            "text/plain": "                     load  y+1  load_t-5  load_t-4  load_t-3  load_t-2  \\\n2014-09-01 00:00:00  0.28 0.24      0.61      0.58      0.51      0.43   \n2014-09-01 01:00:00  0.24 0.22      0.58      0.51      0.43      0.34   \n2014-09-01 02:00:00  0.22 0.22      0.51      0.43      0.34      0.28   \n\n                     load_t-1  load_t-0  \n2014-09-01 00:00:00      0.34      0.28  \n2014-09-01 01:00:00      0.28      0.24  \n2014-09-01 02:00:00      0.24      0.22  ",
            "text/html": "<div>\n<style scoped>\n    .dataframe tbody tr th:only-of-type {\n        vertical-align: middle;\n    }\n\n    .dataframe tbody tr th {\n        vertical-align: top;\n    }\n\n    .dataframe thead th {\n        text-align: right;\n    }\n</style>\n<table border=\"1\" class=\"dataframe\">\n  <thead>\n    <tr style=\"text-align: right;\">\n      <th></th>\n      <th>load</th>\n      <th>y+1</th>\n      <th>load_t-5</th>\n      <th>load_t-4</th>\n      <th>load_t-3</th>\n      <th>load_t-2</th>\n      <th>load_t-1</th>\n      <th>load_t-0</th>\n    </tr>\n  </thead>\n  <tbody>\n    <tr>\n      <th>2014-09-01 00:00:00</th>\n      <td>0.28</td>\n      <td>0.24</td>\n      <td>0.61</td>\n      <td>0.58</td>\n      <td>0.51</td>\n      <td>0.43</td>\n      <td>0.34</td>\n      <td>0.28</td>\n    </tr>\n    <tr>\n      <th>2014-09-01 01:00:00</th>\n      <td>0.24</td>\n      <td>0.22</td>\n      <td>0.58</td>\n      <td>0.51</td>\n      <td>0.43</td>\n      <td>0.34</td>\n      <td>0.28</td>\n      <td>0.24</td>\n    </tr>\n    <tr>\n      <th>2014-09-01 02:00:00</th>\n      <td>0.22</td>\n      <td>0.22</td>\n      <td>0.51</td>\n      <td>0.43</td>\n      <td>0.34</td>\n      <td>0.28</td>\n      <td>0.24</td>\n      <td>0.22</td>\n    </tr>\n  </tbody>\n</table>\n</div>"
          },
          "metadata": {}
        }
      ],
      "execution_count": 14,
      "metadata": {
        "gather": {
          "logged": 1656534613873
        }
      }
    },
    {
      "cell_type": "code",
      "source": [
        "#$myfix y_valid = valid_shifted[\"y+1\"].as_matrix()\n",
        "#X_valid = valid_shifted[[\"load_t-\" + str(T - t) for t in range(1, T + 1)]].as_matrix()\n",
        "y_valid = valid_shifted[\"y+1\"].to_numpy()\n",
        "X_valid = valid_shifted[[\"load_t-\" + str(T - t) for t in range(1, T + 1)]].to_numpy()\n",
        "X_valid = X_valid.reshape(X_valid.shape[0], T, 1)"
      ],
      "outputs": [],
      "execution_count": 18,
      "metadata": {
        "gather": {
          "logged": 1656536512600
        }
      }
    },
    {
      "cell_type": "code",
      "source": [
        "print(y_valid.shape)\r\n",
        "y_valid[:3]"
      ],
      "outputs": [
        {
          "output_type": "stream",
          "name": "stdout",
          "text": "(1463,)\n"
        },
        {
          "output_type": "execute_result",
          "execution_count": 21,
          "data": {
            "text/plain": "array([0.24, 0.22, 0.22])"
          },
          "metadata": {}
        }
      ],
      "execution_count": 21,
      "metadata": {
        "scrolled": true,
        "gather": {
          "logged": 1656536553822
        }
      }
    },
    {
      "cell_type": "code",
      "source": [
        "print(X_valid.shape)\r\n",
        "X_valid[:3]"
      ],
      "outputs": [
        {
          "output_type": "stream",
          "name": "stdout",
          "text": "(1463, 6, 1)\n"
        },
        {
          "output_type": "execute_result",
          "execution_count": 22,
          "data": {
            "text/plain": "array([[[0.61],\n        [0.58],\n        [0.51],\n        [0.43],\n        [0.34],\n        [0.28]],\n\n       [[0.58],\n        [0.51],\n        [0.43],\n        [0.34],\n        [0.28],\n        [0.24]],\n\n       [[0.51],\n        [0.43],\n        [0.34],\n        [0.28],\n        [0.24],\n        [0.22]]])"
          },
          "metadata": {}
        }
      ],
      "execution_count": 22,
      "metadata": {
        "gather": {
          "logged": 1656536575340
        }
      }
    },
    {
      "cell_type": "markdown",
      "source": [
        "## 2a. Model: RNN"
      ],
      "metadata": {
        "nteract": {
          "transient": {
            "deleting": false
          }
        }
      }
    },
    {
      "cell_type": "code",
      "source": [
        "from tensorflow.keras.callbacks import EarlyStopping\n",
        "from tensorflow.keras.layers import GRU, Dense\n",
        "from tensorflow.keras.models import Model, Sequential"
      ],
      "outputs": [],
      "execution_count": 23,
      "metadata": {
        "gather": {
          "logged": 1656536589195
        }
      }
    },
    {
      "cell_type": "code",
      "source": [
        "LATENT_DIM = 5\n",
        "BATCH_SIZE = 32\n",
        "EPOCHS = (\n",
        "    10\n",
        ")"
      ],
      "outputs": [],
      "execution_count": 24,
      "metadata": {
        "gather": {
          "logged": 1656536590645
        }
      }
    },
    {
      "cell_type": "code",
      "source": [
        "model = Sequential()\n",
        "model.add(GRU(LATENT_DIM, input_shape=(T, 1)))\n",
        "model.add(Dense(HORIZON))"
      ],
      "outputs": [],
      "execution_count": 25,
      "metadata": {
        "gather": {
          "logged": 1656536593711
        }
      }
    },
    {
      "cell_type": "code",
      "source": [
        "model.compile(optimizer=\"RMSprop\", loss=\"mse\")"
      ],
      "outputs": [],
      "execution_count": 26,
      "metadata": {
        "gather": {
          "logged": 1656536595305
        }
      }
    },
    {
      "cell_type": "code",
      "source": [
        "model.summary()"
      ],
      "outputs": [
        {
          "output_type": "stream",
          "name": "stdout",
          "text": "Model: \"sequential\"\n_________________________________________________________________\nLayer (type)                 Output Shape              Param #   \n=================================================================\ngru (GRU)                    (None, 5)                 120       \n_________________________________________________________________\ndense (Dense)                (None, 1)                 6         \n=================================================================\nTotal params: 126\nTrainable params: 126\nNon-trainable params: 0\n_________________________________________________________________\n"
        }
      ],
      "execution_count": 27,
      "metadata": {
        "gather": {
          "logged": 1656536598305
        }
      }
    },
    {
      "cell_type": "code",
      "source": [
        "earlystop = EarlyStopping(monitor=\"val_loss\", min_delta=0, patience=5)"
      ],
      "outputs": [],
      "execution_count": 28,
      "metadata": {
        "gather": {
          "logged": 1656536601491
        }
      }
    },
    {
      "cell_type": "code",
      "source": [
        "model_history = model.fit(\n",
        "    X_train,\n",
        "    y_train,\n",
        "    batch_size=BATCH_SIZE,\n",
        "    epochs=EPOCHS,\n",
        "    validation_data=(X_valid, y_valid),\n",
        "    callbacks=[earlystop],\n",
        "    verbose=1,\n",
        ")"
      ],
      "outputs": [
        {
          "output_type": "stream",
          "name": "stdout",
          "text": "Epoch 1/10\n731/731 [==============================] - 2s 3ms/step - loss: 0.0053 - val_loss: 0.0011\b\b\b\b\b\b\b\b\b\b\b\b\b\b\b\b\b\b\b\b\b\b\b\b\b\b\b\b\b\b\b\b\b\b\b\b\b\b\b\b\b\b\nEpoch 2/10\n731/731 [==============================] - 2s 3ms/step - loss: 8.4732e-04 - val_loss: 6.3784e-04\b\b\b\b\b\b\b\b\b\b\b\b\b\b\b\b\b\b\b\b\b\b\b\b\b\b\b\b\b\b\b\b\b\b\b\b\b\b\b\b\b\b\nEpoch 3/10\n731/731 [==============================] - 2s 3ms/step - loss: 6.5696e-04 - val_loss: 5.4299e-04\b\b\b\b\b\b\b\b\b\b\b\b\b\b\b\b\b\b\b\b\b\b\b\b\b\b\b\b\b\b\b\b\b\b\b\b\b\b\b\b\b\b\nEpoch 4/10\n731/731 [==============================] - 2s 3ms/step - loss: 5.8500e-04 - val_loss: 5.1475e-04\b\b\b\b\b\b\b\b\b\b\b\b\b\b\b\b\b\b\b\b\b\b\b\b\b\b\b\b\b\b\b\b\b\b\b\b\b\b\b\b\b\b\nEpoch 5/10\n731/731 [==============================] - 2s 3ms/step - loss: 5.6636e-04 - val_loss: 5.8183e-04\b\b\b\b\b\b\b\b\b\b\b\b\b\b\b\b\b\b\b\b\b\b\b\b\b\b\b\b\b\b\b\b\b\b\b\b\b\b\b\b\b\b\nEpoch 6/10\n731/731 [==============================] - 2s 3ms/step - loss: 5.6368e-04 - val_loss: 5.4168e-04\b\b\b\b\b\b\b\b\b\b\b\b\b\b\b\b\b\b\b\b\b\b\b\b\b\b\b\b\b\b\b\b\b\b\b\b\b\b\b\b\b\b\nEpoch 7/10\n731/731 [==============================] - 2s 3ms/step - loss: 5.5948e-04 - val_loss: 6.8796e-04\b\b\b\b\b\b\b\b\b\b\b\b\b\b\b\b\b\b\b\b\b\b\b\b\b\b\b\b\b\b\b\b\b\b\b\b\b\b\b\b\b\b\nEpoch 8/10\n731/731 [==============================] - 2s 3ms/step - loss: 5.5380e-04 - val_loss: 5.0144e-04\b\b\b\b\b\b\b\b\b\b\b\b\b\b\b\b\b\b\b\b\b\b\b\b\b\b\b\b\b\b\b\b\b\b\b\b\b\b\b\b\b\b\nEpoch 9/10\n731/731 [==============================] - 2s 3ms/step - loss: 5.5299e-04 - val_loss: 5.6959e-04\b\b\b\b\b\b\b\b\b\b\b\b\b\b\b\b\b\b\b\b\b\b\b\b\b\b\b\b\b\b\b\b\b\b\b\b\b\b\b\b\b\b\nEpoch 10/10\n731/731 [==============================] - 2s 2ms/step - loss: 5.4908e-04 - val_loss: 5.4115e-04\b\b\b\b\b\b\b\b\b\b\b\b\b\b\b\b\b\b\b\b\b\b\b\b\b\b\b\b\b\b\b\b\b\b\b\b\b\b\b\b\b\b\n"
        }
      ],
      "execution_count": 29,
      "metadata": {
        "gather": {
          "logged": 1656536889439
        }
      }
    },
    {
      "cell_type": "markdown",
      "source": [
        "### 2.1 Evaluate Model\r\n",
        "on test data"
      ],
      "metadata": {
        "nteract": {
          "transient": {
            "deleting": false
          }
        }
      }
    },
    {
      "cell_type": "code",
      "source": [
        "look_back_dt = dt.datetime.strptime(test_st_data_load, \"%Y-%m-%d %H:%M:%S\") - dt.timedelta(\n",
        "    hours=T - 1\n",
        ")\n",
        "test = ts_data_load.copy()[test_st_data_load:][[\"load\"]]\n",
        "\n",
        "test[\"load\"] = scaler.transform(test)\n",
        "\n",
        "test_shifted = test.copy()\n",
        "test_shifted[\"y_t+1\"] = test_shifted[\"load\"].shift(-1, freq=\"H\")\n",
        "for t in range(1, T + 1):\n",
        "    test_shifted[\"load_t-\" + str(T - t)] = test_shifted[\"load\"].shift(T - t, freq=\"H\")\n",
        "\n",
        "test_shifted = test_shifted.dropna(how=\"any\")\n",
        "\n",
        "y_test = test_shifted[\"y_t+1\"].to_numpy() #$myfix .as_matrix()\n",
        "X_test = test_shifted[[\"load_t-\" + str(T - t) for t in range(1, T + 1)]].to_numpy() #$myfix .as_matrix()\n",
        "X_test = X_test.reshape(X_test.shape[0], T, 1)"
      ],
      "outputs": [],
      "execution_count": 32,
      "metadata": {
        "gather": {
          "logged": 1656537120575
        }
      }
    },
    {
      "cell_type": "code",
      "source": [
        "y_test.shape, X_test.shape"
      ],
      "outputs": [
        {
          "output_type": "execute_result",
          "execution_count": 33,
          "data": {
            "text/plain": "((1458,), (1458, 6, 1))"
          },
          "metadata": {}
        }
      ],
      "execution_count": 33,
      "metadata": {
        "gather": {
          "logged": 1656537138897
        }
      }
    },
    {
      "cell_type": "code",
      "source": [
        "ts_predictions = model.predict(X_test)\n",
        "ts_predictions"
      ],
      "outputs": [
        {
          "output_type": "execute_result",
          "execution_count": 34,
          "data": {
            "text/plain": "array([[0.22],\n       [0.3 ],\n       [0.38],\n       ...,\n       [0.54],\n       [0.46],\n       [0.43]], dtype=float32)"
          },
          "metadata": {}
        }
      ],
      "execution_count": 34,
      "metadata": {
        "gather": {
          "logged": 1656537154823
        }
      }
    },
    {
      "cell_type": "code",
      "source": [
        "ev_ts_data = pd.DataFrame(\n",
        "    ts_predictions, columns=[\"t+\" + str(t) for t in range(1, HORIZON + 1)]\n",
        ")\n",
        "ev_ts_data[\"timestamp\"] = test_shifted.index\n",
        "ev_ts_data = pd.melt(ev_ts_data, id_vars=\"timestamp\", value_name=\"prediction\", var_name=\"h\")\n",
        "ev_ts_data[\"actual\"] = np.transpose(y_test).ravel()\n",
        "ev_ts_data[[\"prediction\", \"actual\"]] = scaler.inverse_transform(\n",
        "    ev_ts_data[[\"prediction\", \"actual\"]]\n",
        ")\n",
        "ev_ts_data.head()"
      ],
      "outputs": [
        {
          "output_type": "execute_result",
          "execution_count": 35,
          "data": {
            "text/plain": "            timestamp    h  prediction   actual\n0 2014-11-01 05:00:00  t+1    2,689.59 2,714.00\n1 2014-11-01 06:00:00  t+1    2,957.38 2,970.00\n2 2014-11-01 07:00:00  t+1    3,220.38 3,189.00\n3 2014-11-01 08:00:00  t+1    3,352.92 3,356.00\n4 2014-11-01 09:00:00  t+1    3,487.30 3,436.00",
            "text/html": "<div>\n<style scoped>\n    .dataframe tbody tr th:only-of-type {\n        vertical-align: middle;\n    }\n\n    .dataframe tbody tr th {\n        vertical-align: top;\n    }\n\n    .dataframe thead th {\n        text-align: right;\n    }\n</style>\n<table border=\"1\" class=\"dataframe\">\n  <thead>\n    <tr style=\"text-align: right;\">\n      <th></th>\n      <th>timestamp</th>\n      <th>h</th>\n      <th>prediction</th>\n      <th>actual</th>\n    </tr>\n  </thead>\n  <tbody>\n    <tr>\n      <th>0</th>\n      <td>2014-11-01 05:00:00</td>\n      <td>t+1</td>\n      <td>2,689.59</td>\n      <td>2,714.00</td>\n    </tr>\n    <tr>\n      <th>1</th>\n      <td>2014-11-01 06:00:00</td>\n      <td>t+1</td>\n      <td>2,957.38</td>\n      <td>2,970.00</td>\n    </tr>\n    <tr>\n      <th>2</th>\n      <td>2014-11-01 07:00:00</td>\n      <td>t+1</td>\n      <td>3,220.38</td>\n      <td>3,189.00</td>\n    </tr>\n    <tr>\n      <th>3</th>\n      <td>2014-11-01 08:00:00</td>\n      <td>t+1</td>\n      <td>3,352.92</td>\n      <td>3,356.00</td>\n    </tr>\n    <tr>\n      <th>4</th>\n      <td>2014-11-01 09:00:00</td>\n      <td>t+1</td>\n      <td>3,487.30</td>\n      <td>3,436.00</td>\n    </tr>\n  </tbody>\n</table>\n</div>"
          },
          "metadata": {}
        }
      ],
      "execution_count": 35,
      "metadata": {
        "gather": {
          "logged": 1656537157248
        }
      }
    },
    {
      "cell_type": "code",
      "source": [
        "def mape(ts_predictions, actuals):\n",
        "    \"\"\"Mean absolute percentage error\"\"\"\n",
        "    return ((ts_predictions - actuals).abs() / actuals).mean()"
      ],
      "outputs": [],
      "execution_count": 36,
      "metadata": {
        "gather": {
          "logged": 1656537160378
        }
      }
    },
    {
      "cell_type": "code",
      "source": [
        "mape(ev_ts_data[\"prediction\"], ev_ts_data[\"actual\"])"
      ],
      "outputs": [
        {
          "output_type": "execute_result",
          "execution_count": 37,
          "data": {
            "text/plain": "0.016108245600771964"
          },
          "metadata": {}
        }
      ],
      "execution_count": 37,
      "metadata": {
        "gather": {
          "logged": 1656537163292
        }
      }
    },
    {
      "cell_type": "code",
      "source": [
        "ev_ts_data[ev_ts_data.timestamp < \"2014-11-08\"].plot(\n",
        "    x=\"timestamp\", y=[\"prediction\", \"actual\"], style=[\"r\", \"b\"], figsize=(15, 8)\n",
        ")\n",
        "plt.xlabel(\"timestamp\", fontsize=12)\n",
        "plt.ylabel(\"load\", fontsize=12)\n",
        "plt.show()"
      ],
      "outputs": [
        {
          "output_type": "display_data",
          "data": {
            "text/plain": "<Figure size 1080x576 with 1 Axes>",
            "image/png": "[encoded data removed]"
          },
          "metadata": {
            "needs_background": "light"
          }
        }
      ],
      "execution_count": 38,
      "metadata": {
        "gather": {
          "logged": 1656537166373
        }
      }
    },
    {
      "cell_type": "markdown",
      "source": [
        "## 2b. Model: Multivariate model"
      ],
      "metadata": {}
    },
    {
      "cell_type": "code",
      "source": [
        "import datetime as dt\n",
        "import os\n",
        "import sys\n",
        "import warnings\n",
        "from collections import UserDict\n",
        "\n",
        "import numpy as np\n",
        "import pandas as pd\n",
        "from common.utils import TimeSeriesTensor, create_evaluation_df, load_data, mape\n",
        "from IPython.display import Image\n",
        "\n",
        "pd.options.display.float_format = \"{:,.2f}\".format\n",
        "np.set_printoptions(precision=2)\n",
        "warnings.filterwarnings(\"ignore\")"
      ],
      "outputs": [],
      "execution_count": 39,
      "metadata": {
        "lines_to_next_cell": 0,
        "gather": {
          "logged": 1656537167977
        }
      }
    },
    {
      "cell_type": "code",
      "source": [
        "data_dir = \"./data/\"\n",
        "ts_data = load_data(data_dir)\n",
        "ts_data.head()"
      ],
      "outputs": [
        {
          "output_type": "execute_result",
          "execution_count": 40,
          "data": {
            "text/plain": "                        load  temp\n2012-01-01 00:00:00 2,698.00 32.00\n2012-01-01 01:00:00 2,558.00 32.67\n2012-01-01 02:00:00 2,444.00 30.00\n2012-01-01 03:00:00 2,402.00 31.00\n2012-01-01 04:00:00 2,403.00 32.00",
            "text/html": "<div>\n<style scoped>\n    .dataframe tbody tr th:only-of-type {\n        vertical-align: middle;\n    }\n\n    .dataframe tbody tr th {\n        vertical-align: top;\n    }\n\n    .dataframe thead th {\n        text-align: right;\n    }\n</style>\n<table border=\"1\" class=\"dataframe\">\n  <thead>\n    <tr style=\"text-align: right;\">\n      <th></th>\n      <th>load</th>\n      <th>temp</th>\n    </tr>\n  </thead>\n  <tbody>\n    <tr>\n      <th>2012-01-01 00:00:00</th>\n      <td>2,698.00</td>\n      <td>32.00</td>\n    </tr>\n    <tr>\n      <th>2012-01-01 01:00:00</th>\n      <td>2,558.00</td>\n      <td>32.67</td>\n    </tr>\n    <tr>\n      <th>2012-01-01 02:00:00</th>\n      <td>2,444.00</td>\n      <td>30.00</td>\n    </tr>\n    <tr>\n      <th>2012-01-01 03:00:00</th>\n      <td>2,402.00</td>\n      <td>31.00</td>\n    </tr>\n    <tr>\n      <th>2012-01-01 04:00:00</th>\n      <td>2,403.00</td>\n      <td>32.00</td>\n    </tr>\n  </tbody>\n</table>\n</div>"
          },
          "metadata": {}
        }
      ],
      "execution_count": 40,
      "metadata": {
        "gather": {
          "logged": 1656537171028
        }
      }
    },
    {
      "cell_type": "code",
      "source": [
        "valid_st_data_load = \"2014-09-01 00:00:00\"\n",
        "test_st_data_load = \"2014-11-01 00:00:00\""
      ],
      "outputs": [],
      "execution_count": 41,
      "metadata": {
        "gather": {
          "logged": 1656537173994
        }
      }
    },
    {
      "cell_type": "code",
      "source": [
        "T = 6\n",
        "HORIZON = 1"
      ],
      "outputs": [],
      "execution_count": 42,
      "metadata": {
        "lines_to_next_cell": 0,
        "gather": {
          "logged": 1656537175550
        }
      }
    },
    {
      "cell_type": "code",
      "source": [
        "from sklearn.preprocessing import MinMaxScaler"
      ],
      "outputs": [],
      "execution_count": 43,
      "metadata": {
        "gather": {
          "logged": 1656537178588
        }
      }
    },
    {
      "cell_type": "code",
      "source": [
        "y_scaler = MinMaxScaler()\n",
        "y_scaler.fit(train[[\"load\"]])"
      ],
      "outputs": [
        {
          "output_type": "execute_result",
          "execution_count": 44,
          "data": {
            "text/plain": "MinMaxScaler(copy=True, feature_range=(0, 1))"
          },
          "metadata": {}
        }
      ],
      "execution_count": 44,
      "metadata": {
        "gather": {
          "logged": 1656537181618
        }
      }
    },
    {
      "cell_type": "code",
      "source": [
        "train = ts_data.copy()[ts_data.index < valid_st_data_load][[\"load\", \"temp\"]]\n",
        "X_scaler = MinMaxScaler()\n",
        "train[[\"load\", \"temp\"]] = X_scaler.fit_transform(train)"
      ],
      "outputs": [],
      "execution_count": 45,
      "metadata": {
        "gather": {
          "logged": 1656537183363
        }
      }
    },
    {
      "cell_type": "code",
      "source": [
        "train.head()"
      ],
      "outputs": [
        {
          "output_type": "execute_result",
          "execution_count": 46,
          "data": {
            "text/plain": "                     load  temp\n2012-01-01 00:00:00  0.22  0.42\n2012-01-01 01:00:00  0.18  0.43\n2012-01-01 02:00:00  0.14  0.40\n2012-01-01 03:00:00  0.13  0.41\n2012-01-01 04:00:00  0.13  0.42",
            "text/html": "<div>\n<style scoped>\n    .dataframe tbody tr th:only-of-type {\n        vertical-align: middle;\n    }\n\n    .dataframe tbody tr th {\n        vertical-align: top;\n    }\n\n    .dataframe thead th {\n        text-align: right;\n    }\n</style>\n<table border=\"1\" class=\"dataframe\">\n  <thead>\n    <tr style=\"text-align: right;\">\n      <th></th>\n      <th>load</th>\n      <th>temp</th>\n    </tr>\n  </thead>\n  <tbody>\n    <tr>\n      <th>2012-01-01 00:00:00</th>\n      <td>0.22</td>\n      <td>0.42</td>\n    </tr>\n    <tr>\n      <th>2012-01-01 01:00:00</th>\n      <td>0.18</td>\n      <td>0.43</td>\n    </tr>\n    <tr>\n      <th>2012-01-01 02:00:00</th>\n      <td>0.14</td>\n      <td>0.40</td>\n    </tr>\n    <tr>\n      <th>2012-01-01 03:00:00</th>\n      <td>0.13</td>\n      <td>0.41</td>\n    </tr>\n    <tr>\n      <th>2012-01-01 04:00:00</th>\n      <td>0.13</td>\n      <td>0.42</td>\n    </tr>\n  </tbody>\n</table>\n</div>"
          },
          "metadata": {}
        }
      ],
      "execution_count": 46,
      "metadata": {
        "gather": {
          "logged": 1656537186256
        }
      }
    },
    {
      "cell_type": "code",
      "source": [
        "tensor_structure = {\"X\": (range(-T + 1, 1), [\"load\", \"temp\"])}\n",
        "ts_train_inp = TimeSeriesTensor(\n",
        "    dataset=train,\n",
        "    target=\"load\",\n",
        "    H=HORIZON,\n",
        "    tensor_structure=tensor_structure,\n",
        "    freq=\"H\",\n",
        "    drop_incomplete=True,\n",
        ")\n",
        "back_ts_data = dt.datetime.strptime(valid_st_data_load, \"%Y-%m-%d %H:%M:%S\") - dt.timedelta(\n",
        "    hours=T - 1\n",
        ")\n",
        "valid = ts_data.copy()[(ts_data.index >= back_ts_data) & (ts_data.index < test_st_data_load)][\n",
        "    [\"load\", \"temp\"]\n",
        "]\n",
        "valid[[\"load\", \"temp\"]] = X_scaler.transform(valid)\n",
        "valid_inputs = TimeSeriesTensor(valid, \"load\", HORIZON, tensor_structure)"
      ],
      "outputs": [],
      "execution_count": 47,
      "metadata": {
        "gather": {
          "logged": 1656537189431
        }
      }
    },
    {
      "cell_type": "code",
      "source": [
        "from tensorflow.keras.callbacks import EarlyStopping\n",
        "from tensorflow.keras.layers import GRU, Dense\n",
        "from tensorflow.keras.models import Model, Sequential"
      ],
      "outputs": [],
      "execution_count": 48,
      "metadata": {
        "gather": {
          "logged": 1656537190866
        }
      }
    },
    {
      "cell_type": "code",
      "source": [
        "LATENT_DIM = 5\n",
        "BATCH_SIZE = 32\n",
        "EPOCHS = 50\n",
        "\n",
        "model = Sequential()\n",
        "model.add(GRU(LATENT_DIM, input_shape=(T, 2)))\n",
        "model.add(Dense(HORIZON))"
      ],
      "outputs": [],
      "execution_count": 49,
      "metadata": {
        "gather": {
          "logged": 1656537193852
        }
      }
    },
    {
      "cell_type": "code",
      "source": [
        "model.compile(optimizer=\"RMSprop\", loss=\"mse\")\n",
        "\n",
        "model.summary()"
      ],
      "outputs": [
        {
          "output_type": "stream",
          "name": "stdout",
          "text": "Model: \"sequential_1\"\n_________________________________________________________________\nLayer (type)                 Output Shape              Param #   \n=================================================================\ngru_1 (GRU)                  (None, 5)                 135       \n_________________________________________________________________\ndense_1 (Dense)              (None, 1)                 6         \n=================================================================\nTotal params: 141\nTrainable params: 141\nNon-trainable params: 0\n_________________________________________________________________\n"
        }
      ],
      "execution_count": 50,
      "metadata": {
        "gather": {
          "logged": 1656537196935
        }
      }
    },
    {
      "cell_type": "code",
      "source": [
        "earlystop = EarlyStopping(monitor=\"val_loss\", min_delta=0, patience=5)"
      ],
      "outputs": [],
      "execution_count": 51,
      "metadata": {
        "gather": {
          "logged": 1656537198452
        }
      }
    },
    {
      "cell_type": "code",
      "source": [
        "model_history = model.fit(\n",
        "    ts_train_inp[\"X\"],\n",
        "    ts_train_inp[\"target\"],\n",
        "    batch_size=BATCH_SIZE,\n",
        "    epochs=EPOCHS,\n",
        "    validation_data=(valid_inputs[\"X\"], valid_inputs[\"target\"]),\n",
        "    callbacks=[earlystop],\n",
        "    verbose=1,\n",
        ")"
      ],
      "outputs": [
        {
          "output_type": "stream",
          "name": "stdout",
          "text": "Epoch 1/50\n731/731 [==============================] - 2s 3ms/step - loss: 0.0247 - val_loss: 0.0016\b\b\b\b\b\b\b\b\b\b\b\b\b\b\b\b\b\b\b\b\b\b\b\b\b\b\b\b\b\b\b\b\b\b\b\b\b\b\b\b\b\b\nEpoch 2/50\n731/731 [==============================] - 2s 3ms/step - loss: 0.0013 - val_loss: 9.8253e-04\b\b\b\b\b\b\b\b\b\b\b\b\b\b\b\b\b\b\b\b\b\b\b\b\b\b\b\b\b\b\b\b\b\b\b\b\b\b\nEpoch 3/50\n731/731 [==============================] - 2s 3ms/step - loss: 8.3062e-04 - val_loss: 9.0059e-04\b\b\b\b\b\b\b\b\b\b\b\b\b\b\b\b\b\b\b\b\b\b\b\b\b\b\b\b\b\b\b\b\b\b\b\b\b\b\b\b\b\b\nEpoch 4/50\n731/731 [==============================] - 2s 3ms/step - loss: 6.8662e-04 - val_loss: 6.6160e-04\b\b\b\b\b\b\b\b\b\b\b\b\b\b\b\b\b\b\b\b\b\b\b\b\b\b\b\b\b\b\b\b\b\b\b\b\b\b\b\b\b\b\nEpoch 5/50\n731/731 [==============================] - 2s 3ms/step - loss: 6.2406e-04 - val_loss: 5.4306e-04\b\b\b\b\b\b\b\b\b\b\b\b\b\b\b\b\b\b\b\b\b\b\b\b\b\b\b\b\b\b\b\b\b\b\b\b\b\b\b\b\b\b\nEpoch 6/50\n731/731 [==============================] - 2s 3ms/step - loss: 6.0093e-04 - val_loss: 6.7584e-04\b\b\b\b\b\b\b\b\b\b\b\b\b\b\b\b\b\b\b\b\b\b\b\b\b\b\b\b\b\b\b\b\b\b\b\b\b\b\b\b\b\b\nEpoch 7/50\n731/731 [==============================] - 2s 3ms/step - loss: 5.8145e-04 - val_loss: 5.6321e-04\b\b\b\b\b\b\b\b\b\b\b\b\b\b\b\b\b\b\b\b\b\b\b\b\b\b\b\b\b\b\b\b\b\b\b\b\b\b\b\b\b\b\nEpoch 8/50\n731/731 [==============================] - 2s 3ms/step - loss: 5.6394e-04 - val_loss: 8.9346e-04\b\b\b\b\b\b\b\b\b\b\b\b\b\b\b\b\b\b\b\b\b\b\b\b\b\b\b\b\b\b\b\b\b\b\b\b\b\b\b\b\b\b\nEpoch 9/50\n731/731 [==============================] - 2s 3ms/step - loss: 5.5011e-04 - val_loss: 4.8735e-04\b\b\b\b\b\b\b\b\b\b\b\b\b\b\b\b\b\b\b\b\b\b\b\b\b\b\b\b\b\b\b\b\b\b\b\b\b\b\b\b\b\b\nEpoch 10/50\n731/731 [==============================] - 2s 3ms/step - loss: 5.3266e-04 - val_loss: 4.7926e-04\b\b\b\b\b\b\b\b\b\b\b\b\b\b\b\b\b\b\b\b\b\b\b\b\b\b\b\b\b\b\b\b\b\b\b\b\b\b\b\b\b\b\nEpoch 11/50\n731/731 [==============================] - 2s 3ms/step - loss: 5.2303e-04 - val_loss: 6.6412e-04\b\b\b\b\b\b\b\b\b\b\b\b\b\b\b\b\b\b\b\b\b\b\b\b\b\b\b\b\b\b\b\b\b\b\b\b\b\b\b\b\b\b\nEpoch 12/50\n731/731 [==============================] - 2s 3ms/step - loss: 5.1524e-04 - val_loss: 4.4968e-04\b\b\b\b\b\b\b\b\b\b\b\b\b\b\b\b\b\b\b\b\b\b\b\b\b\b\b\b\b\b\b\b\b\b\b\b\b\b\b\b\b\b\nEpoch 13/50\n731/731 [==============================] - 2s 3ms/step - loss: 5.0876e-04 - val_loss: 9.0398e-04\b\b\b\b\b\b\b\b\b\b\b\b\b\b\b\b\b\b\b\b\b\b\b\b\b\b\b\b\b\b\b\b\b\b\b\b\b\b\b\b\b\b\nEpoch 14/50\n731/731 [==============================] - 2s 3ms/step - loss: 5.0151e-04 - val_loss: 4.5745e-04\b\b\b\b\b\b\b\b\b\b\b\b\b\b\b\b\b\b\b\b\b\b\b\b\b\b\b\b\b\b\b\b\b\b\b\b\b\b\b\b\b\b\nEpoch 15/50\n731/731 [==============================] - 2s 3ms/step - loss: 4.9480e-04 - val_loss: 4.4965e-04\b\b\b\b\b\b\b\b\b\b\b\b\b\b\b\b\b\b\b\b\b\b\b\b\b\b\b\b\b\b\b\b\b\b\b\b\b\b\b\b\b\b\nEpoch 16/50\n731/731 [==============================] - 2s 3ms/step - loss: 4.8894e-04 - val_loss: 4.1570e-04\b\b\b\b\b\b\b\b\b\b\b\b\b\b\b\b\b\b\b\b\b\b\b\b\b\b\b\b\b\b\b\b\b\b\b\b\b\b\b\b\b\b\nEpoch 17/50\n731/731 [==============================] - 2s 3ms/step - loss: 4.8326e-04 - val_loss: 4.3543e-04\b\b\b\b\b\b\b\b\b\b\b\b\b\b\b\b\b\b\b\b\b\b\b\b\b\b\b\b\b\b\b\b\b\b\b\b\b\b\b\b\b\b\nEpoch 18/50\n731/731 [==============================] - 2s 3ms/step - loss: 4.7614e-04 - val_loss: 3.9678e-04\b\b\b\b\b\b\b\b\b\b\b\b\b\b\b\b\b\b\b\b\b\b\b\b\b\b\b\b\b\b\b\b\b\b\b\b\b\b\b\b\b\b\nEpoch 19/50\n731/731 [==============================] - 2s 3ms/step - loss: 4.7022e-04 - val_loss: 6.1518e-04\b\b\b\b\b\b\b\b\b\b\b\b\b\b\b\b\b\b\b\b\b\b\b\b\b\b\b\b\b\b\b\b\b\b\b\b\b\b\b\b\b\b\nEpoch 20/50\n731/731 [==============================] - 2s 3ms/step - loss: 4.6552e-04 - val_loss: 4.6837e-04\b\b\b\b\b\b\b\b\b\b\b\b\b\b\b\b\b\b\b\b\b\b\b\b\b\b\b\b\b\b\b\b\b\b\b\b\b\b\b\b\b\b\nEpoch 21/50\n731/731 [==============================] - 2s 3ms/step - loss: 4.6021e-04 - val_loss: 4.0165e-04\b\b\b\b\b\b\b\b\b\b\b\b\b\b\b\b\b\b\b\b\b\b\b\b\b\b\b\b\b\b\b\b\b\b\b\b\b\b\b\b\b\b\nEpoch 22/50\n731/731 [==============================] - 2s 3ms/step - loss: 4.4900e-04 - val_loss: 5.5776e-04\b\b\b\b\b\b\b\b\b\b\b\b\b\b\b\b\b\b\b\b\b\b\b\b\b\b\b\b\b\b\b\b\b\b\b\b\b\b\b\b\b\b\n"
        }
      ],
      "execution_count": 52,
      "metadata": {
        "gather": {
          "logged": 1656537864812
        }
      }
    },
    {
      "cell_type": "code",
      "source": [
        "#$myfix - Github repo not same as book\n",
        "back_ts_data = dt.datetime.strptime(test_st_data_load, \"%Y-%m-%d %H:%M:%S\") - dt.timedelta(\n",
        "    hours=T - 1\n",
        ")\n",
        "ts_data_test = ts_data.copy()[test_st_data_load:][[\"load\", \"temp\"]]\n",
        "ts_data_test[[\"load\", \"temp\"]] = X_scaler.transform(ts_data_test)\n",
        "ts_data_test_inputs = TimeSeriesTensor(ts_data_test, \"load\", HORIZON, tensor_structure)\n",
        "\n",
        "ts_predictions = model.predict(ts_data_test_inputs[\"X\"])\n",
        "\n",
        "ev_ts_data = create_evaluation_df(ts_predictions, ts_data_test_inputs, HORIZON, y_scaler)\n",
        "ev_ts_data.head()"
      ],
      "outputs": [
        {
          "output_type": "execute_result",
          "execution_count": 55,
          "data": {
            "text/plain": "            timestamp    h  prediction  actual\n0 2014-11-01 05:00:00  t+1        0.23    0.23\n1 2014-11-01 06:00:00  t+1        0.31    0.31\n2 2014-11-01 07:00:00  t+1        0.38    0.37\n3 2014-11-01 08:00:00  t+1        0.42    0.42\n4 2014-11-01 09:00:00  t+1        0.47    0.45",
            "text/html": "<div>\n<style scoped>\n    .dataframe tbody tr th:only-of-type {\n        vertical-align: middle;\n    }\n\n    .dataframe tbody tr th {\n        vertical-align: top;\n    }\n\n    .dataframe thead th {\n        text-align: right;\n    }\n</style>\n<table border=\"1\" class=\"dataframe\">\n  <thead>\n    <tr style=\"text-align: right;\">\n      <th></th>\n      <th>timestamp</th>\n      <th>h</th>\n      <th>prediction</th>\n      <th>actual</th>\n    </tr>\n  </thead>\n  <tbody>\n    <tr>\n      <th>0</th>\n      <td>2014-11-01 05:00:00</td>\n      <td>t+1</td>\n      <td>0.23</td>\n      <td>0.23</td>\n    </tr>\n    <tr>\n      <th>1</th>\n      <td>2014-11-01 06:00:00</td>\n      <td>t+1</td>\n      <td>0.31</td>\n      <td>0.31</td>\n    </tr>\n    <tr>\n      <th>2</th>\n      <td>2014-11-01 07:00:00</td>\n      <td>t+1</td>\n      <td>0.38</td>\n      <td>0.37</td>\n    </tr>\n    <tr>\n      <th>3</th>\n      <td>2014-11-01 08:00:00</td>\n      <td>t+1</td>\n      <td>0.42</td>\n      <td>0.42</td>\n    </tr>\n    <tr>\n      <th>4</th>\n      <td>2014-11-01 09:00:00</td>\n      <td>t+1</td>\n      <td>0.47</td>\n      <td>0.45</td>\n    </tr>\n  </tbody>\n</table>\n</div>"
          },
          "metadata": {}
        }
      ],
      "execution_count": 55,
      "metadata": {
        "gather": {
          "logged": 1656541514761
        }
      }
    },
    {
      "cell_type": "code",
      "source": [
        "mape(ev_ts_data[\"prediction\"], ev_ts_data[\"actual\"])"
      ],
      "outputs": [
        {
          "output_type": "execute_result",
          "execution_count": 56,
          "data": {
            "text/plain": "0.051428882921823904"
          },
          "metadata": {}
        }
      ],
      "execution_count": 56,
      "metadata": {
        "gather": {
          "logged": 1656541534645
        }
      }
    },
    {
      "cell_type": "markdown",
      "source": [
        "## Xtra"
      ],
      "metadata": {
        "nteract": {
          "transient": {
            "deleting": false
          }
        }
      }
    },
    {
      "cell_type": "code",
      "source": [
        "print(sys.path)"
      ],
      "outputs": [
        {
          "output_type": "stream",
          "name": "stdout",
          "text": "['/anaconda/envs/azureml-timeseriesbook/lib/python36.zip', '/anaconda/envs/azureml-timeseriesbook/lib/python3.6', '/anaconda/envs/azureml-timeseriesbook/lib/python3.6/lib-dynload', '', '/anaconda/envs/azureml-timeseriesbook/lib/python3.6/site-packages', '/anaconda/envs/azureml-timeseriesbook/lib/python3.6/site-packages/IPython/extensions', '/home/azureuser/.ipython', '/anaconda/envs/azureml-timeseriesbook/lib/python3.6/site-packages/azureml/_project/vendor', '/anaconda/envs/azureml-timeseriesbook/lib/python3.6/site-packages/azureml/automl/core/_vendor', '/anaconda/envs/azureml-timeseriesbook/lib/python3.6/site-packages/azureml/automl/runtime/_vendor']\n"
        }
      ],
      "execution_count": 60,
      "metadata": {
        "jupyter": {
          "source_hidden": false,
          "outputs_hidden": false
        },
        "nteract": {
          "transient": {
            "deleting": false
          }
        },
        "gather": {
          "logged": 1656560032623
        }
      }
    },
    {
      "cell_type": "code",
      "source": [
        "#$xtra verify my custom module works\r\n",
        "from common.my_debugger import me_print\r\n",
        "me_print()\r\n",
        "\r\n",
        "#if my custom module doesn't work within AML, refer to code in Notebooks/my4_Autoregressive_and_Automated_Methods_forTS_AML.ipynb"
      ],
      "outputs": [
        {
          "output_type": "execute_result",
          "execution_count": 59,
          "data": {
            "text/plain": "'hello world'"
          },
          "metadata": {}
        }
      ],
      "execution_count": 59,
      "metadata": {
        "jupyter": {
          "source_hidden": false,
          "outputs_hidden": false
        },
        "nteract": {
          "transient": {
            "deleting": false
          }
        },
        "gather": {
          "logged": 1656559790838
        }
      }
    }
  ],
  "metadata": {
    "jupytext": {
      "formats": "ipynb,py:light"
    },
    "kernel_info": {
      "name": "azureml-timeseriesbook"
    },
    "kernelspec": {
      "name": "azureml-timeseriesbook",
      "language": "python",
      "display_name": "azureml-timeseriesbook"
    },
    "language_info": {
      "name": "python",
      "version": "3.6.13",
      "mimetype": "text/x-python",
      "codemirror_mode": {
        "name": "ipython",
        "version": 3
      },
      "pygments_lexer": "ipython3",
      "nbconvert_exporter": "python",
      "file_extension": ".py"
    },
    "nteract": {
      "version": "nteract-front-end@1.0.0"
    },
    "microsoft": {
      "host": {
        "AzureML": {
          "notebookHasBeenCompleted": true
        }
      }
    }
  },
  "nbformat": 4,
  "nbformat_minor": 4
}