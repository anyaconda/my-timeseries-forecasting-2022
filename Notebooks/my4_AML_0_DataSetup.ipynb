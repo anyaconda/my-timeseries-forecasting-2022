{
  "cells": [
    {
      "cell_type": "code",
      "source": [
        "#meta: 6/23/2022 Ch 4. Pipeline - 0_DataSetup for Autoregressive and Automated Methods with Azure ML\r\n",
        "#book: Machine Learning for Time Series Forecasting with Python  \r\n",
        "#author: Francesca Lazzeri, PhD.  \r\n",
        "#forked from FrancescaLazzeri https://github.com/FrancescaLazzeri/Machine-Learning-for-Time-Series-Forecasting  \r\n",
        "\r\n",
        "#infra: AML anya-ml\r\n",
        "#env default AzureML with py 3.8.3\r\n",
        "#numpy 1.19.0, pandas 1.1.5\r\n",
        "\r\n",
        "\r\n",
        "#history\r\n",
        "#6/23/2022 MY DATA PIPELINE FOR AZURE AUTOML\r\n",
        "#      Get data once, preprocess and use tidy data from this point on.\r\n",
        "\r\n",
        "\r\n",
        "# References\r\n",
        "#How to read a binary file\r\n",
        "# refer to https://www.stackvidhya.com/python-read-binary-file/"
      ],
      "outputs": [],
      "execution_count": 1,
      "metadata": {
        "jupyter": {
          "source_hidden": false,
          "outputs_hidden": false
        },
        "nteract": {
          "transient": {
            "deleting": false
          }
        },
        "gather": {
          "logged": 1656025321187
        }
      }
    },
    {
      "cell_type": "code",
      "source": [
        "#$my python version \r\n",
        "import sys\r\n",
        "print(sys.version)"
      ],
      "outputs": [
        {
          "output_type": "stream",
          "name": "stdout",
          "text": "3.8.5 (default, Sep  4 2020, 07:30:14) \n[GCC 7.3.0]\n"
        }
      ],
      "execution_count": 2,
      "metadata": {
        "jupyter": {
          "source_hidden": false,
          "outputs_hidden": false
        },
        "nteract": {
          "transient": {
            "deleting": false
          }
        },
        "gather": {
          "logged": 1656025323927
        }
      }
    },
    {
      "cell_type": "code",
      "source": [
        "#import resources and packages\r\n",
        "from datetime import datetime\r\n",
        "import pandas as pd\r\n",
        "\r\n",
        "#import azureml.core\r\n",
        "from azureml.core import Dataset, Experiment, Workspace"
      ],
      "outputs": [],
      "execution_count": 3,
      "metadata": {
        "jupyter": {
          "source_hidden": false,
          "outputs_hidden": false
        },
        "nteract": {
          "transient": {
            "deleting": false
          }
        },
        "gather": {
          "logged": 1656025325466
        }
      }
    },
    {
      "cell_type": "code",
      "source": [
        "#-------------- GLOBAL VARS ----------------------------\r\n",
        "FILE_RAW_CSV = 'data/NYC_energy_raw.csv'\r\n",
        "FILE_TRAIN_CSV = 'data/NYC_energy_train.csv'\r\n",
        "FILE_TEST_CSV = 'data/NYC_energy_test.csv'"
      ],
      "outputs": [],
      "execution_count": 4,
      "metadata": {
        "jupyter": {
          "source_hidden": false,
          "outputs_hidden": false
        },
        "nteract": {
          "transient": {
            "deleting": false
          }
        },
        "gather": {
          "logged": 1656025328063
        }
      }
    },
    {
      "cell_type": "markdown",
      "source": [
        "## 0. Load Data\r\n",
        "NYC energy demand dataset (refer to http://mis.nyiso.com/public/P-58Blist.htm) stored in a tabular format.  \r\n",
        "Ds includes energy demand and numerical weaher features at an hourly freqquency.\r\n",
        "\r\n",
        "A good ds for ts forecasting: predict the energy demand in NYC for the next 24 hours by building a forecasting solution that leverages historical energy data from the same geographical region."
      ],
      "metadata": {
        "nteract": {
          "transient": {
            "deleting": false
          }
        }
      }
    },
    {
      "cell_type": "code",
      "source": [
        "#define the target column\r\n",
        "target_column_name = \"demand\"\r\n",
        "#temporal structure\r\n",
        "time_column_name = \"timeStamp\"\r\n",
        "\r\n",
        "ts_data = Dataset.Tabular.from_delimited_files( #class azureml.data.tabular_dataset.TabularDataset #class azureml.data.tabular_dataset.TabularDataset\r\n",
        "    path=\"https://automlsamplenotebookdata.blob.core.windows.net/automl-sample-notebook-data/nyc_energy.csv\"\r\n",
        ").with_timestamp_columns(fine_grain_timestamp=time_column_name)\r\n",
        "\r\n",
        "ts_data.take(5).to_pandas_dataframe().reset_index(drop=True)"
      ],
      "outputs": [
        {
          "output_type": "execute_result",
          "execution_count": 5,
          "data": {
            "text/plain": "            timeStamp  demand  precip   temp\n0 2012-01-01 00:00:00  4937.5     0.0  46.13\n1 2012-01-01 01:00:00  4752.1     0.0  45.89\n2 2012-01-01 02:00:00  4542.6     0.0  45.04\n3 2012-01-01 03:00:00  4357.7     0.0  45.03\n4 2012-01-01 04:00:00  4275.5     0.0  42.61",
            "text/html": "<div>\n<style scoped>\n    .dataframe tbody tr th:only-of-type {\n        vertical-align: middle;\n    }\n\n    .dataframe tbody tr th {\n        vertical-align: top;\n    }\n\n    .dataframe thead th {\n        text-align: right;\n    }\n</style>\n<table border=\"1\" class=\"dataframe\">\n  <thead>\n    <tr style=\"text-align: right;\">\n      <th></th>\n      <th>timeStamp</th>\n      <th>demand</th>\n      <th>precip</th>\n      <th>temp</th>\n    </tr>\n  </thead>\n  <tbody>\n    <tr>\n      <th>0</th>\n      <td>2012-01-01 00:00:00</td>\n      <td>4937.5</td>\n      <td>0.0</td>\n      <td>46.13</td>\n    </tr>\n    <tr>\n      <th>1</th>\n      <td>2012-01-01 01:00:00</td>\n      <td>4752.1</td>\n      <td>0.0</td>\n      <td>45.89</td>\n    </tr>\n    <tr>\n      <th>2</th>\n      <td>2012-01-01 02:00:00</td>\n      <td>4542.6</td>\n      <td>0.0</td>\n      <td>45.04</td>\n    </tr>\n    <tr>\n      <th>3</th>\n      <td>2012-01-01 03:00:00</td>\n      <td>4357.7</td>\n      <td>0.0</td>\n      <td>45.03</td>\n    </tr>\n    <tr>\n      <th>4</th>\n      <td>2012-01-01 04:00:00</td>\n      <td>4275.5</td>\n      <td>0.0</td>\n      <td>42.61</td>\n    </tr>\n  </tbody>\n</table>\n</div>"
          },
          "metadata": {}
        }
      ],
      "execution_count": 5,
      "metadata": {
        "jupyter": {
          "source_hidden": false,
          "outputs_hidden": false
        },
        "nteract": {
          "transient": {
            "deleting": false
          }
        },
        "gather": {
          "logged": 1656025330949
        }
      }
    },
    {
      "cell_type": "markdown",
      "source": [
        "### 0.1 Persist raw data"
      ],
      "metadata": {
        "nteract": {
          "transient": {
            "deleting": false
          }
        }
      }
    },
    {
      "cell_type": "code",
      "source": [
        "#ts_data.take(5).to_pandas_dataframe().to_csv(FILE_DF, index=False)\r\n",
        "ts_data.to_pandas_dataframe().to_csv(FILE_RAW_CSV, index=False)"
      ],
      "outputs": [],
      "execution_count": 6,
      "metadata": {
        "jupyter": {
          "source_hidden": false,
          "outputs_hidden": false
        },
        "nteract": {
          "transient": {
            "deleting": false
          }
        },
        "gather": {
          "logged": 1656025332251
        }
      }
    },
    {
      "cell_type": "markdown",
      "source": [
        "## 1. Prep Data\r\n",
        "Define and prepare ts data for forecasting with AutoML\r\n",
        "\r\n",
        "Ds is missing energy demand values for all datetimes later than 2017/08/10 05:00 -> reduce the ds by deleting rows with missing values from the end of ds."
      ],
      "metadata": {
        "nteract": {
          "transient": {
            "deleting": false
          }
        }
      }
    },
    {
      "cell_type": "code",
      "source": [
        "#delete rows due to many NaN values\r\n",
        "ts_data = ts_data.time_before(datetime(2017,8,10,5))"
      ],
      "outputs": [],
      "execution_count": 7,
      "metadata": {
        "jupyter": {
          "source_hidden": false,
          "outputs_hidden": false
        },
        "nteract": {
          "transient": {
            "deleting": false
          }
        },
        "gather": {
          "logged": 1656025334993
        }
      }
    },
    {
      "cell_type": "code",
      "source": [
        "#train test split\r\n",
        "train = ts_data.time_before(datetime(2017, 8, 8, 5), include_boundary=True)\r\n",
        "train.to_pandas_dataframe().reset_index(drop=True).sort_values(time_column_name).tail(5)\r\n",
        "\r\n",
        "test = ts_data.time_between(datetime(2017, 8, 8, 6), datetime(2017, 8, 10, 5))\r\n",
        "test.to_pandas_dataframe().reset_index(drop=True).head(5)"
      ],
      "outputs": [
        {
          "output_type": "execute_result",
          "execution_count": 8,
          "data": {
            "text/plain": "            timeStamp    demand  precip   temp\n0 2017-08-08 06:00:00  5590.992     0.0  66.17\n1 2017-08-08 07:00:00  6147.033     0.0  66.29\n2 2017-08-08 08:00:00  6592.425     0.0  66.72\n3 2017-08-08 09:00:00  6874.533     0.0  67.37\n4 2017-08-08 10:00:00  7010.542     0.0  68.30",
            "text/html": "<div>\n<style scoped>\n    .dataframe tbody tr th:only-of-type {\n        vertical-align: middle;\n    }\n\n    .dataframe tbody tr th {\n        vertical-align: top;\n    }\n\n    .dataframe thead th {\n        text-align: right;\n    }\n</style>\n<table border=\"1\" class=\"dataframe\">\n  <thead>\n    <tr style=\"text-align: right;\">\n      <th></th>\n      <th>timeStamp</th>\n      <th>demand</th>\n      <th>precip</th>\n      <th>temp</th>\n    </tr>\n  </thead>\n  <tbody>\n    <tr>\n      <th>0</th>\n      <td>2017-08-08 06:00:00</td>\n      <td>5590.992</td>\n      <td>0.0</td>\n      <td>66.17</td>\n    </tr>\n    <tr>\n      <th>1</th>\n      <td>2017-08-08 07:00:00</td>\n      <td>6147.033</td>\n      <td>0.0</td>\n      <td>66.29</td>\n    </tr>\n    <tr>\n      <th>2</th>\n      <td>2017-08-08 08:00:00</td>\n      <td>6592.425</td>\n      <td>0.0</td>\n      <td>66.72</td>\n    </tr>\n    <tr>\n      <th>3</th>\n      <td>2017-08-08 09:00:00</td>\n      <td>6874.533</td>\n      <td>0.0</td>\n      <td>67.37</td>\n    </tr>\n    <tr>\n      <th>4</th>\n      <td>2017-08-08 10:00:00</td>\n      <td>7010.542</td>\n      <td>0.0</td>\n      <td>68.30</td>\n    </tr>\n  </tbody>\n</table>\n</div>"
          },
          "metadata": {}
        }
      ],
      "execution_count": 8,
      "metadata": {
        "jupyter": {
          "source_hidden": false,
          "outputs_hidden": false
        },
        "nteract": {
          "transient": {
            "deleting": false
          }
        },
        "gather": {
          "logged": 1656025337763
        }
      }
    },
    {
      "cell_type": "markdown",
      "source": [
        "### 1.1 Persist tidy data\r\n",
        "Get data once, preprocess and use tidy data from this point on."
      ],
      "metadata": {
        "nteract": {
          "transient": {
            "deleting": false
          }
        }
      }
    },
    {
      "cell_type": "code",
      "source": [
        "\r\n",
        "train.to_pandas_dataframe().reset_index(drop=True).sort_values(time_column_name).to_csv(FILE_TRAIN_CSV, index=False)\r\n",
        "test.to_pandas_dataframe().reset_index(drop=True).to_csv(FILE_TEST_CSV, index=False)"
      ],
      "outputs": [],
      "execution_count": 9,
      "metadata": {
        "jupyter": {
          "source_hidden": false,
          "outputs_hidden": false
        },
        "nteract": {
          "transient": {
            "deleting": false
          }
        },
        "gather": {
          "logged": 1656025339168
        }
      }
    },
    {
      "cell_type": "markdown",
      "source": [
        "### 1.2 Check persisted data"
      ],
      "metadata": {
        "nteract": {
          "transient": {
            "deleting": false
          }
        }
      }
    },
    {
      "cell_type": "code",
      "source": [
        "#preview saved dataframes\r\n",
        "df = pd.read_csv(FILE_RAW_CSV)\r\n",
        "df_train = pd.read_csv(FILE_TRAIN_CSV)\r\n",
        "df_test = pd.read_csv(FILE_TEST_CSV)\r\n",
        "print(df.shape, df_train.shape, df_test.shape)\r\n",
        "\r\n",
        "print(df.dtypes)\r\n",
        "print(df_train.dtypes)\r\n",
        "print(df_test.dtypes)\r\n",
        "\r\n",
        "#preview\r\n",
        "df.head()"
      ],
      "outputs": [
        {
          "output_type": "stream",
          "name": "stdout",
          "text": "(49205, 4) (49108, 4) (48, 4)\ntimeStamp     object\ndemand       float64\nprecip       float64\ntemp         float64\ndtype: object\ntimeStamp     object\ndemand       float64\nprecip       float64\ntemp         float64\ndtype: object\ntimeStamp     object\ndemand       float64\nprecip       float64\ntemp         float64\ndtype: object\n"
        },
        {
          "output_type": "execute_result",
          "execution_count": 10,
          "data": {
            "text/plain": "             timeStamp  demand  precip   temp\n0  2012-01-01 00:00:00  4937.5     0.0  46.13\n1  2012-01-01 01:00:00  4752.1     0.0  45.89\n2  2012-01-01 02:00:00  4542.6     0.0  45.04\n3  2012-01-01 03:00:00  4357.7     0.0  45.03\n4  2012-01-01 04:00:00  4275.5     0.0  42.61",
            "text/html": "<div>\n<style scoped>\n    .dataframe tbody tr th:only-of-type {\n        vertical-align: middle;\n    }\n\n    .dataframe tbody tr th {\n        vertical-align: top;\n    }\n\n    .dataframe thead th {\n        text-align: right;\n    }\n</style>\n<table border=\"1\" class=\"dataframe\">\n  <thead>\n    <tr style=\"text-align: right;\">\n      <th></th>\n      <th>timeStamp</th>\n      <th>demand</th>\n      <th>precip</th>\n      <th>temp</th>\n    </tr>\n  </thead>\n  <tbody>\n    <tr>\n      <th>0</th>\n      <td>2012-01-01 00:00:00</td>\n      <td>4937.5</td>\n      <td>0.0</td>\n      <td>46.13</td>\n    </tr>\n    <tr>\n      <th>1</th>\n      <td>2012-01-01 01:00:00</td>\n      <td>4752.1</td>\n      <td>0.0</td>\n      <td>45.89</td>\n    </tr>\n    <tr>\n      <th>2</th>\n      <td>2012-01-01 02:00:00</td>\n      <td>4542.6</td>\n      <td>0.0</td>\n      <td>45.04</td>\n    </tr>\n    <tr>\n      <th>3</th>\n      <td>2012-01-01 03:00:00</td>\n      <td>4357.7</td>\n      <td>0.0</td>\n      <td>45.03</td>\n    </tr>\n    <tr>\n      <th>4</th>\n      <td>2012-01-01 04:00:00</td>\n      <td>4275.5</td>\n      <td>0.0</td>\n      <td>42.61</td>\n    </tr>\n  </tbody>\n</table>\n</div>"
          },
          "metadata": {}
        }
      ],
      "execution_count": 10,
      "metadata": {
        "jupyter": {
          "source_hidden": false,
          "outputs_hidden": false
        },
        "nteract": {
          "transient": {
            "deleting": false
          }
        },
        "gather": {
          "logged": 1656025343300
        }
      }
    },
    {
      "cell_type": "code",
      "source": [
        "#check missing data in raw dataset\r\n",
        "df[df['timeStamp']> '2017-08-10 05:00:00'].head()"
      ],
      "outputs": [
        {
          "output_type": "execute_result",
          "execution_count": 11,
          "data": {
            "text/plain": "                 timeStamp  demand  precip   temp\n49156  2017-08-10 06:00:00     NaN   0.003  67.06\n49157  2017-08-10 07:00:00     NaN   0.000  67.22\n49158  2017-08-10 08:00:00     NaN   0.000  69.50\n49159  2017-08-10 09:00:00     NaN   0.000  73.69\n49160  2017-08-10 10:00:00     NaN   0.000  78.07",
            "text/html": "<div>\n<style scoped>\n    .dataframe tbody tr th:only-of-type {\n        vertical-align: middle;\n    }\n\n    .dataframe tbody tr th {\n        vertical-align: top;\n    }\n\n    .dataframe thead th {\n        text-align: right;\n    }\n</style>\n<table border=\"1\" class=\"dataframe\">\n  <thead>\n    <tr style=\"text-align: right;\">\n      <th></th>\n      <th>timeStamp</th>\n      <th>demand</th>\n      <th>precip</th>\n      <th>temp</th>\n    </tr>\n  </thead>\n  <tbody>\n    <tr>\n      <th>49156</th>\n      <td>2017-08-10 06:00:00</td>\n      <td>NaN</td>\n      <td>0.003</td>\n      <td>67.06</td>\n    </tr>\n    <tr>\n      <th>49157</th>\n      <td>2017-08-10 07:00:00</td>\n      <td>NaN</td>\n      <td>0.000</td>\n      <td>67.22</td>\n    </tr>\n    <tr>\n      <th>49158</th>\n      <td>2017-08-10 08:00:00</td>\n      <td>NaN</td>\n      <td>0.000</td>\n      <td>69.50</td>\n    </tr>\n    <tr>\n      <th>49159</th>\n      <td>2017-08-10 09:00:00</td>\n      <td>NaN</td>\n      <td>0.000</td>\n      <td>73.69</td>\n    </tr>\n    <tr>\n      <th>49160</th>\n      <td>2017-08-10 10:00:00</td>\n      <td>NaN</td>\n      <td>0.000</td>\n      <td>78.07</td>\n    </tr>\n  </tbody>\n</table>\n</div>"
          },
          "metadata": {}
        }
      ],
      "execution_count": 11,
      "metadata": {
        "jupyter": {
          "source_hidden": false,
          "outputs_hidden": false
        },
        "nteract": {
          "transient": {
            "deleting": false
          }
        },
        "gather": {
          "logged": 1656025346053
        }
      }
    },
    {
      "cell_type": "code",
      "source": [
        "mystop"
      ],
      "outputs": [
        {
          "output_type": "error",
          "ename": "NameError",
          "evalue": "name 'mystop' is not defined",
          "traceback": [
            "\u001b[0;31m---------------------------------------------------------------------------\u001b[0m",
            "\u001b[0;31mNameError\u001b[0m                                 Traceback (most recent call last)",
            "Input \u001b[0;32mIn [12]\u001b[0m, in \u001b[0;36m<cell line: 1>\u001b[0;34m()\u001b[0m\n\u001b[0;32m----> 1\u001b[0m \u001b[43mmystop\u001b[49m\n",
            "\u001b[0;31mNameError\u001b[0m: name 'mystop' is not defined"
          ]
        }
      ],
      "execution_count": 12,
      "metadata": {
        "jupyter": {
          "source_hidden": false,
          "outputs_hidden": false
        },
        "nteract": {
          "transient": {
            "deleting": false
          }
        },
        "gather": {
          "logged": 1656025347414
        }
      }
    },
    {
      "cell_type": "markdown",
      "source": [
        "## Xtra"
      ],
      "metadata": {
        "nteract": {
          "transient": {
            "deleting": false
          }
        }
      }
    },
    {
      "cell_type": "code",
      "source": [],
      "outputs": [],
      "execution_count": null,
      "metadata": {
        "jupyter": {
          "source_hidden": false,
          "outputs_hidden": false
        },
        "nteract": {
          "transient": {
            "deleting": false
          }
        },
        "gather": {
          "logged": 1656025347618
        }
      }
    },
    {
      "cell_type": "code",
      "source": [
        "#persist file - binary file stream\r\n",
        "#$not - way easier to save as pandas df and will be ready to read\r\n",
        "\r\n",
        "FILE_DIR = 'data/NYC_energy'\r\n",
        "FILE_BINARY = 'data/NYC_energy/part-00000'\r\n",
        "FILE_BINARY_SMALL = 'data/NYC_energy/NYC_energy_small'\r\n",
        "#ts_data.to_csv_files().download(FILE_DIR) #file stream"
      ],
      "outputs": [],
      "execution_count": null,
      "metadata": {
        "jupyter": {
          "source_hidden": false,
          "outputs_hidden": false
        },
        "nteract": {
          "transient": {
            "deleting": false
          }
        },
        "gather": {
          "logged": 1656025347662
        }
      }
    },
    {
      "cell_type": "code",
      "source": [
        "#read file\r\n",
        "# How to read a binary file\r\n",
        "#refer to https://www.stackvidhya.com/python-read-binary-file/\r\n",
        "f = open(FILE_BINARY_SMALL,'rb') #class _io.BufferedReader\r\n",
        "\r\n",
        "lines = f.readlines()\r\n",
        "\r\n",
        "for line in lines:\r\n",
        "    print(line.rstrip())\r\n"
      ],
      "outputs": [],
      "execution_count": null,
      "metadata": {
        "jupyter": {
          "source_hidden": false,
          "outputs_hidden": false
        },
        "nteract": {
          "transient": {
            "deleting": false
          }
        },
        "gather": {
          "logged": 1656025347704
        }
      }
    },
    {
      "cell_type": "code",
      "source": [],
      "outputs": [],
      "execution_count": null,
      "metadata": {
        "jupyter": {
          "source_hidden": false,
          "outputs_hidden": false
        },
        "nteract": {
          "transient": {
            "deleting": false
          }
        }
      }
    }
  ],
  "metadata": {
    "kernelspec": {
      "name": "python38-azureml",
      "language": "python",
      "display_name": "Python 3.8 - AzureML"
    },
    "language_info": {
      "name": "python",
      "version": "3.8.5",
      "mimetype": "text/x-python",
      "codemirror_mode": {
        "name": "ipython",
        "version": 3
      },
      "pygments_lexer": "ipython3",
      "nbconvert_exporter": "python",
      "file_extension": ".py"
    },
    "kernel_info": {
      "name": "python38-azureml"
    },
    "nteract": {
      "version": "nteract-front-end@1.0.0"
    },
    "microsoft": {
      "host": {
        "AzureML": {
          "notebookHasBeenCompleted": true
        }
      }
    }
  },
  "nbformat": 4,
  "nbformat_minor": 2
}