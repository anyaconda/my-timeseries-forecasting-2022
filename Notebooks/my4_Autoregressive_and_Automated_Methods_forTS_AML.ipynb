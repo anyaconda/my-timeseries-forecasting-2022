{
  "cells": [
    {
      "cell_type": "code",
      "source": [
        "#meta: 6/22/2022 Ch 4. Intro to Autoregressive and Automated Methods with Azure ML\r\n",
        "#book: Machine Learning for Time Series Forecasting with Python  \r\n",
        "#author: Francesca Lazzeri, PhD.  \r\n",
        "#forked from FrancescaLazzeri https://github.com/FrancescaLazzeri/Machine-Learning-for-Time-Series-Forecasting  \r\n",
        "\r\n",
        "#infra: AML anya-ml\r\n",
        "#env azureml-timeseriesbook-downgrd: Python 3.6.13 (per original env file: environment-aml.yml w/custom steps in installation doced in my 1Note)\r\n",
        "#$note about env: azureml-timeseriesbook-downgrd cloned from azureml-timeseriesbook; was meant to downgrade sklearn to v19 due to $error but worked fine\r\n",
        "#numpy 1.18.5, pandas 1.1.1, matplotlib 3.1.1, scikit-learn 0.22.2.post1 (did run pip freeze sklearn)\r\n",
        "#statsmodels 0.11.1\r\n",
        "\r\n",
        "#$config $donot, $delta, $error\r\n",
        "\r\n",
        "#history\r\n",
        "# my work through code is marked with `$my`\r\n",
        "#6/22/2022 ARIMA & AZURE AUTOML 1st DRAFT\r\n",
        "#      created env  azureml-timeseriesbook-downgrd (exact clone of azureml-timeseriesbook)\r\n",
        "#      AutoML in AzureML - train a ts regression model\r\n",
        "#        iterate thru diff ML algos, perform best model selection, hparam tuning and feature engineering\r\n",
        "#      Understand config options an pre-processing steps\r\n",
        "#      ts forecasting w/ horizon\r\n",
        "#      ts model evaluations\r\n",
        "#      How to: import custom module \r\n",
        "\r\n",
        "#6/22/2022 SWITCHED TO MY DATA PIPELINE FOR AZURE AUTOML; GET TRAIN METRICS\r\n",
        "#      Already pre-processed data in step my4_AML_0_DataSetup.ipynb  \r\n",
        "#        tidy data saved as .csv and needs to be converted to expected format `azureml.data.tabular_dataset.TabularDataset`.\r\n",
        "#      AutoML in AzureML - train a ts regression model\r\n",
        "#      Look into Experiment details and get train metrics w/ `get_metrics())\r\n",
        "\r\n",
        "\r\n",
        "\r\n",
        "# References\r\n",
        "#Configuration: Setting up your Azure Machine Learning services workspace and configuring your notebook library\r\n",
        "# refer to Aka.ms/AzureMLConfiguration\r\n",
        "# refer to https://github.com/Azure/MachineLearningNotebooks/blob/master/configuration.ipynb\r\n",
        "\r\n",
        "#How to: Upload a Pandas dataframe and register as a dataset: register_pandas_dataframe()  \r\n",
        "# refer to https://github.com/azure/azureml-examples/blob/main/python-sdk/tutorials/dataset-uploads/upload_dataframe_register_as_dataset.ipynb\r\n",
        "\r\n",
        "#AutoMLRun Class represents an automated ML experiment run in Azure ML\r\n",
        "# refer to https://docs.microsoft.com/en-us/python/api/azureml-train-automl-client/azureml.train.automl.run.automlrun?view=azure-ml-py\r\n",
        "#Run Class defines the base class for all Azure Machine Learning experiment runs. A run represents a single trial of an experiment. Method `get_metrics()`\r\n",
        "# refer to https://docs.microsoft.com/en-us/python/api/azureml-core/azureml.core.run.run?view=azure-ml-py"
      ],
      "outputs": [],
      "execution_count": 1,
      "metadata": {
        "jupyter": {
          "source_hidden": false,
          "outputs_hidden": false
        },
        "nteract": {
          "transient": {
            "deleting": false
          }
        },
        "gather": {
          "logged": 1656363514162
        }
      }
    },
    {
      "cell_type": "code",
      "source": [
        "#$my python version \r\n",
        "import sys\r\n",
        "print(sys.version)"
      ],
      "outputs": [
        {
          "output_type": "stream",
          "name": "stdout",
          "text": "3.6.13 |Anaconda, Inc.| (default, Jun  4 2021, 14:25:59) \n[GCC 7.5.0]\n"
        }
      ],
      "execution_count": 2,
      "metadata": {
        "jupyter": {
          "source_hidden": false,
          "outputs_hidden": false
        },
        "nteract": {
          "transient": {
            "deleting": false
          }
        },
        "gather": {
          "logged": 1656363516617
        }
      }
    },
    {
      "cell_type": "markdown",
      "source": [
        "# Chapter 4 - Introduction to Autoregressive and Automated Methods for Time Series Forecasting - Azure Machine Learning Example\n",
        "\n",
        "## Automated Machine Learning"
      ],
      "metadata": {}
    },
    {
      "cell_type": "code",
      "source": [
        "# This should be done in a seperate environment as azureml-sdk conflicts with some of our package versions such as statsmodels 0.12\n",
        "# The environment this was tested with is \n",
        "# name: azureml\n",
        "# channels:\n",
        "#   - defaults\n",
        "#   - conda-forge\n",
        "# dependencies:\n",
        "#   - python=3.6\n",
        "#   - matplotlib=3.1.1\n",
        "#   - pandas=1.1.1\n",
        "#   - pip\n",
        "#   - pip:\n",
        "#     - azureml-sdk[automl,notebooks,explain]\n",
        "#     - azuremlftk\n",
        "#     - azure-cli"
      ],
      "outputs": [],
      "execution_count": 3,
      "metadata": {
        "gather": {
          "logged": 1656363519176
        }
      }
    },
    {
      "cell_type": "code",
      "source": [
        "#import resources and packages for ts and Azure AutoML\n",
        "import logging\n",
        "import os\n",
        "import warnings\n",
        "import numpy as np\n",
        "import pandas as pd\n",
        "\n",
        "%matplotlib inline\n",
        "from matplotlib import pyplot as plt\n",
        "from sklearn.metrics import mean_absolute_error, mean_squared_error, r2_score\n",
        "\n",
        "from datetime import datetime\n",
        "\n",
        "import azureml.core\n",
        "from azureml.core import Dataset, Experiment, Workspace\n",
        "from azureml.train.automl import AutoMLConfig\n",
        "\n",
        "# Check core SDK version number\n",
        "print(\"SDK version:\", azureml.core.VERSION)\n",
        "\n",
        "#manage warning messages\n",
        "warnings.showwarning = lambda *args, **kwargs: None"
      ],
      "outputs": [
        {
          "output_type": "stream",
          "name": "stdout",
          "text": "SDK version: 1.42.0\n"
        }
      ],
      "execution_count": 4,
      "metadata": {
        "gather": {
          "logged": 1656363521955
        }
      }
    },
    {
      "cell_type": "code",
      "source": [
        "#-------------- GLOBAL VARS ----------------------------\r\n",
        "FILE_TRAIN_CSV = 'data/NYC_energy_train.csv'\r\n",
        "FILE_TEST_CSV = 'data/NYC_energy_test.csv'"
      ],
      "outputs": [],
      "execution_count": 5,
      "metadata": {
        "jupyter": {
          "source_hidden": false,
          "outputs_hidden": false
        },
        "nteract": {
          "transient": {
            "deleting": false
          }
        },
        "gather": {
          "logged": 1656363523196
        }
      }
    },
    {
      "cell_type": "code",
      "source": [
        "#$my to make it work in my AML\r\n",
        "#-------------- GLOBAL VARS ----------------------------\r\n",
        "print(os.getcwd())\r\n",
        "PATH = '/mnt/batch/tasks/shared/LS_root/mounts/clusters/anya-ml-ci-ts/code/Users/Anya.Chaliotis/Notebooks'\r\n",
        "\r\n",
        "#$my Import custom module\r\n",
        "# add code directory to sys path\r\n",
        "#sys.path.append(PATH)\r\n",
        "sys.path.append(PATH + '/common')\r\n",
        "# should be able to import helper.py in code directory\r\n",
        "print(sys.path)\r\n",
        "\r\n",
        "#$test before expensive runtime\r\n",
        "from my_debugger import me_print\r\n",
        "me_print()"
      ],
      "outputs": [
        {
          "output_type": "stream",
          "name": "stdout",
          "text": "/mnt/batch/tasks/shared/LS_root/mounts/clusters/anya-ml-ci-ts/code/Users/Anya.Chaliotis/Notebooks\n['/anaconda/envs/azureml-timeseriesbook/lib/python36.zip', '/anaconda/envs/azureml-timeseriesbook/lib/python3.6', '/anaconda/envs/azureml-timeseriesbook/lib/python3.6/lib-dynload', '', '/anaconda/envs/azureml-timeseriesbook/lib/python3.6/site-packages', '/anaconda/envs/azureml-timeseriesbook/lib/python3.6/site-packages/IPython/extensions', '/home/azureuser/.ipython', '/anaconda/envs/azureml-timeseriesbook/lib/python3.6/site-packages/azureml/_project/vendor', '/anaconda/envs/azureml-timeseriesbook/lib/python3.6/site-packages/azureml/automl/core/_vendor', '/anaconda/envs/azureml-timeseriesbook/lib/python3.6/site-packages/azureml/automl/runtime/_vendor', '/mnt/batch/tasks/shared/LS_root/mounts/clusters/anya-ml-ci-ts/code/Users/Anya.Chaliotis/Notebooks/common']\n"
        },
        {
          "output_type": "execute_result",
          "execution_count": 6,
          "data": {
            "text/plain": "'hello world'"
          },
          "metadata": {}
        }
      ],
      "execution_count": 6,
      "metadata": {
        "jupyter": {
          "source_hidden": false,
          "outputs_hidden": false
        },
        "nteract": {
          "transient": {
            "deleting": false
          }
        },
        "gather": {
          "logged": 1656363527171
        }
      }
    },
    {
      "cell_type": "markdown",
      "source": [
        "## 0. Setup AML \r\n",
        "### 0.1 AML Workspace\r\n",
        "Configuration: Setting up your Azure Machine Learning services workspace and configuring your notebook library  \r\n",
        "refer to `Aka.ms/AzureMLConfiguration`  \r\n",
        "refer to https://github.com/Azure/MachineLearningNotebooks/blob/master/configuration.ipynb"
      ],
      "metadata": {
        "nteract": {
          "transient": {
            "deleting": false
          }
        }
      }
    },
    {
      "cell_type": "code",
      "source": [
        "#$config -> $donot\r\n",
        "\r\n",
        "subscription_id = os.getenv(\"SUBSCRIPTION_ID\", default=\"$config\")\r\n",
        "resource_group = os.getenv(\"RESOURCE_GROUP\", default=\"$config\")\r\n",
        "workspace_name = os.getenv(\"WORKSPACE_NAME\", default=\"$config\")\r\n",
        "workspace_region = os.getenv(\"WORKSPACE_REGION\", default=\"westus2\")\r\n"
      ],
      "outputs": [],
      "execution_count": 7,
      "metadata": {
        "jupyter": {
          "source_hidden": false,
          "outputs_hidden": false
        },
        "nteract": {
          "transient": {
            "deleting": false
          }
        },
        "gather": {
          "logged": 1656363528536
        }
      }
    },
    {
      "cell_type": "markdown",
      "source": [
        "### 0.2 AML Experiment object\r\n",
        "to run ML experiments"
      ],
      "metadata": {
        "nteract": {
          "transient": {
            "deleting": false
          }
        }
      }
    },
    {
      "cell_type": "code",
      "source": [
        "from azureml.core import Workspace\r\n",
        "\r\n",
        "try:\r\n",
        "    ws = Workspace(subscription_id = subscription_id, resource_group = resource_group, workspace_name = workspace_name)\r\n",
        "    # write the details of the workspace to a configuration file to the notebook library\r\n",
        "    ws.write_config()\r\n",
        "    print(\"Workspace configuration succeeded. Skip the workspace creation steps below\")\r\n",
        "except:\r\n",
        "    print(\"Workspace not accessible. Change your parameters or create a new workspace below\")"
      ],
      "outputs": [
        {
          "output_type": "stream",
          "name": "stdout",
          "text": "Workspace configuration succeeded. Skip the workspace creation steps below\n"
        }
      ],
      "execution_count": 8,
      "metadata": {
        "jupyter": {
          "source_hidden": false,
          "outputs_hidden": false
        },
        "nteract": {
          "transient": {
            "deleting": false
          }
        },
        "gather": {
          "logged": 1656363531150
        }
      }
    },
    {
      "cell_type": "code",
      "source": [
        "#$config -> $donot\n",
        "#experiment run history container\n",
        "experiment_name = 'automatedML-timeseriesforecasting_test3'\n",
        "experiment = Experiment(ws, experiment_name)\n",
        "output = {}\n",
        "output['SDK version'] = azureml.core.VERSION\n",
        "output['Subscription ID'] = ws.subscription_id\n",
        "output['Workspace'] = ws.name\n",
        "output['Resource Group'] = ws.resource_group\n",
        "output['Location'] = ws.location\n",
        "output['Run History Name'] = experiment_name\n",
        "pd.set_option('display.max_colwidth', -1)\n",
        "outputDf = pd.DataFrame(data = output, index = [''])\n",
        "outputDf.T"
      ],
      "outputs": [],
      "execution_count": null,
      "metadata": {
        "gather": {
          "logged": 1656363533895
        }
      }
    },
    {
      "cell_type": "markdown",
      "source": [
        "### 0.2 Create Compute Target\r\n",
        "A compute target is required to execute a remote run of ML experiment  \r\n",
        "refer to https://github.com/Azure/MachineLearningNotebooks/blob/master/configuration.ipynb\r\n"
      ],
      "metadata": {
        "nteract": {
          "transient": {
            "deleting": false
          }
        }
      }
    },
    {
      "cell_type": "code",
      "source": [
        "from azureml.core.compute import ComputeTarget, AmlCompute\r\n",
        "from azureml.core.compute_target import ComputeTargetException\r\n",
        "\r\n",
        "# Choose a name for your CPU cluster\r\n",
        "amlcompute_cluster_name = 'anya-tsf-cluster'\r\n",
        "\r\n",
        "# Verify that cluster does not exist already\r\n",
        "try:\r\n",
        "    compute_target = ComputeTarget(workspace=ws, name=amlcompute_cluster_name)\r\n",
        "    print(\"Found existing cluster, use it\")\r\n",
        "except ComputeTargetException:\r\n",
        "    print(\"Creating new cluster\")\r\n",
        "    \r\n",
        "    # Specify the configuration for the new cluster\r\n",
        "    compute_config = AmlCompute.provisioning_configuration(vm_size=\"STANDARD_D2_V2\",\r\n",
        "                                                           #$delta min_nodes=0,\r\n",
        "                                                           max_nodes=4)\r\n",
        "\r\n",
        "    # Create the cluster with the specified name and configuration\r\n",
        "    compute_target = ComputeTarget.create(ws, amlcompute_cluster_name, compute_config)\r\n",
        "    \r\n",
        "    # Wait for the cluster to complete, show the output log\r\n",
        "    compute_target.wait_for_completion(show_output=True)\r\n"
      ],
      "outputs": [
        {
          "output_type": "stream",
          "name": "stdout",
          "text": "Creating new cluster\nInProgress....\nSucceededProvisioning operation finished, operation \"Succeeded\"\nSucceeded\nAmlCompute wait for completion finished\n\nMinimum number of nodes requested have been provisioned\n"
        }
      ],
      "execution_count": 10,
      "metadata": {
        "jupyter": {
          "source_hidden": false,
          "outputs_hidden": false
        },
        "nteract": {
          "transient": {
            "deleting": false
          }
        },
        "gather": {
          "logged": 1656363543126
        }
      }
    },
    {
      "cell_type": "code",
      "source": [
        "cts = ws.compute_targets\n",
        "if amlcompute_cluster_name in cts and cts[amlcompute_cluster_name].type == \"AmlCompute\":\n",
        "    found = True\n",
        "    print(\"Found existing compute target.\")\n",
        "    compute_target = cts[amlcompute_cluster_name]\n",
        "\n",
        "if not found:\n",
        "    print(\"Creating a new compute target...\")\n",
        "    provisioning_config = AmlCompute.provisioning_configuration(\n",
        "        vm_size=\"STANDARD_DS12_V2\",\n",
        "        max_nodes=6,\n",
        "    )\n",
        "\n",
        "    compute_target = ComputeTarget.create(\n",
        "        ws, amlcompute_cluster_name, provisioning_config\n",
        "    )\n",
        "\n",
        "print(\"Checking cluster status...\")\n",
        "\n",
        "compute_target.wait_for_completion(\n",
        "    show_output=True, min_node_count=None, timeout_in_minutes=20\n",
        ")"
      ],
      "outputs": [
        {
          "output_type": "stream",
          "name": "stdout",
          "text": "Found existing compute target.\nChecking cluster status...\nSucceeded\nAmlCompute wait for completion finished\n\nMinimum number of nodes requested have been provisioned\n"
        }
      ],
      "execution_count": 11,
      "metadata": {
        "lines_to_next_cell": 2,
        "gather": {
          "logged": 1656363547306
        }
      }
    },
    {
      "cell_type": "markdown",
      "source": [
        "## 1. Data prep\r\n",
        "Already pre-processed data in step my4_AML_0_DataSetup.ipynb, saved in .csv format\r\n",
        "- delete data w/ missing values  \r\n",
        "- train test split\r\n"
      ],
      "metadata": {
        "nteract": {
          "transient": {
            "deleting": false
          }
        }
      }
    },
    {
      "cell_type": "code",
      "source": [
        "#preview saved dataframes\r\n",
        "df_train = pd.read_csv(FILE_TRAIN_CSV)\r\n",
        "df_test = pd.read_csv(FILE_TEST_CSV)\r\n",
        "print(df_train.shape, df_test.shape)\r\n",
        "\r\n",
        "print(df_train.dtypes)\r\n",
        "print(df_test.dtypes)\r\n",
        "\r\n",
        "#preview\r\n",
        "df_train.head()"
      ],
      "outputs": [
        {
          "output_type": "stream",
          "name": "stdout",
          "text": "(49108, 4) (48, 4)\ntimeStamp    object \ndemand       float64\nprecip       float64\ntemp         float64\ndtype: object\ntimeStamp    object \ndemand       float64\nprecip       float64\ntemp         float64\ndtype: object\n"
        },
        {
          "output_type": "execute_result",
          "execution_count": 12,
          "data": {
            "text/plain": "             timeStamp  demand  precip   temp\n0  2012-01-01 00:00:00  4937.5  0.0     46.13\n1  2012-01-01 01:00:00  4752.1  0.0     45.89\n2  2012-01-01 02:00:00  4542.6  0.0     45.04\n3  2012-01-01 03:00:00  4357.7  0.0     45.03\n4  2012-01-01 04:00:00  4275.5  0.0     42.61",
            "text/html": "<div>\n<style scoped>\n    .dataframe tbody tr th:only-of-type {\n        vertical-align: middle;\n    }\n\n    .dataframe tbody tr th {\n        vertical-align: top;\n    }\n\n    .dataframe thead th {\n        text-align: right;\n    }\n</style>\n<table border=\"1\" class=\"dataframe\">\n  <thead>\n    <tr style=\"text-align: right;\">\n      <th></th>\n      <th>timeStamp</th>\n      <th>demand</th>\n      <th>precip</th>\n      <th>temp</th>\n    </tr>\n  </thead>\n  <tbody>\n    <tr>\n      <th>0</th>\n      <td>2012-01-01 00:00:00</td>\n      <td>4937.5</td>\n      <td>0.0</td>\n      <td>46.13</td>\n    </tr>\n    <tr>\n      <th>1</th>\n      <td>2012-01-01 01:00:00</td>\n      <td>4752.1</td>\n      <td>0.0</td>\n      <td>45.89</td>\n    </tr>\n    <tr>\n      <th>2</th>\n      <td>2012-01-01 02:00:00</td>\n      <td>4542.6</td>\n      <td>0.0</td>\n      <td>45.04</td>\n    </tr>\n    <tr>\n      <th>3</th>\n      <td>2012-01-01 03:00:00</td>\n      <td>4357.7</td>\n      <td>0.0</td>\n      <td>45.03</td>\n    </tr>\n    <tr>\n      <th>4</th>\n      <td>2012-01-01 04:00:00</td>\n      <td>4275.5</td>\n      <td>0.0</td>\n      <td>42.61</td>\n    </tr>\n  </tbody>\n</table>\n</div>"
          },
          "metadata": {}
        }
      ],
      "execution_count": 12,
      "metadata": {
        "jupyter": {
          "source_hidden": false,
          "outputs_hidden": false
        },
        "nteract": {
          "transient": {
            "deleting": false
          }
        },
        "gather": {
          "logged": 1656363550236
        }
      }
    },
    {
      "cell_type": "markdown",
      "source": [
        "### 1.2 Create a dataset from pandas dataframe\r\n",
        "$issue: Can't use pandas df for Azure modeling directly, \r\n",
        "\r\n",
        "get $error:    \r\n",
        "Input of type '<class 'pandas.core.frame.DataFrame'>' is not supported. Supported types: [azureml.data.tabular_dataset.TabularDataset]Please refer to documentation for converting to Supported types: https://docs.microsoft.com/en-us/python/api/azureml-core/azureml.core.dataset.dataset?view=azure-ml-py\r\n",
        "\r\n",
        "$fix:  \r\n",
        "Azure modeling expects data in specific format, therefore if using a pandas df for train/test data, must convert to expected format `azureml.data.tabular_dataset.TabularDataset`.\r\n",
        "\r\n",
        "How to: Upload a Pandas dataframe and register as a dataset: register_pandas_dataframe()  \r\n",
        "Refer to https://github.com/azure/azureml-examples/blob/main/python-sdk/tutorials/dataset-uploads/upload_dataframe_register_as_dataset.ipynb"
      ],
      "metadata": {
        "nteract": {
          "transient": {
            "deleting": false
          }
        }
      }
    },
    {
      "cell_type": "code",
      "source": [
        "#Create a dataset from pandas dataframe\r\n",
        "# already have a pandas df from a local CSV file\r\n",
        "# Getting workspace default datastore\r\n",
        "datastore = ws.get_default_datastore()\r\n",
        "# Uploading Pandas dataframe and registering it as a dataset\r\n",
        "train = Dataset.Tabular.register_pandas_dataframe( #class azureml.data.tabular_dataset.TabularDataset\r\n",
        "    df_train, datastore, \"ds_from_pandas_df\", show_progress=True\r\n",
        ")\r\n",
        "\r\n",
        "train.take(5).to_pandas_dataframe()"
      ],
      "outputs": [
        {
          "output_type": "stream",
          "name": "stdout",
          "text": "Validating arguments.\nArguments validated.\nSuccessfully obtained datastore reference and path.\nUploading file to managed-dataset/d900954f-5efd-43cd-b2af-97c07d8a0e44/\nSuccessfully uploaded file to datastore.\nCreating and registering a new dataset.\nSuccessfully created and registered a new dataset.\n"
        },
        {
          "output_type": "execute_result",
          "execution_count": 13,
          "data": {
            "text/plain": "             timeStamp  demand  precip   temp\n0  2012-01-01 00:00:00  4937.5  0.0     46.13\n1  2012-01-01 01:00:00  4752.1  0.0     45.89\n2  2012-01-01 02:00:00  4542.6  0.0     45.04\n3  2012-01-01 03:00:00  4357.7  0.0     45.03\n4  2012-01-01 04:00:00  4275.5  0.0     42.61",
            "text/html": "<div>\n<style scoped>\n    .dataframe tbody tr th:only-of-type {\n        vertical-align: middle;\n    }\n\n    .dataframe tbody tr th {\n        vertical-align: top;\n    }\n\n    .dataframe thead th {\n        text-align: right;\n    }\n</style>\n<table border=\"1\" class=\"dataframe\">\n  <thead>\n    <tr style=\"text-align: right;\">\n      <th></th>\n      <th>timeStamp</th>\n      <th>demand</th>\n      <th>precip</th>\n      <th>temp</th>\n    </tr>\n  </thead>\n  <tbody>\n    <tr>\n      <th>0</th>\n      <td>2012-01-01 00:00:00</td>\n      <td>4937.5</td>\n      <td>0.0</td>\n      <td>46.13</td>\n    </tr>\n    <tr>\n      <th>1</th>\n      <td>2012-01-01 01:00:00</td>\n      <td>4752.1</td>\n      <td>0.0</td>\n      <td>45.89</td>\n    </tr>\n    <tr>\n      <th>2</th>\n      <td>2012-01-01 02:00:00</td>\n      <td>4542.6</td>\n      <td>0.0</td>\n      <td>45.04</td>\n    </tr>\n    <tr>\n      <th>3</th>\n      <td>2012-01-01 03:00:00</td>\n      <td>4357.7</td>\n      <td>0.0</td>\n      <td>45.03</td>\n    </tr>\n    <tr>\n      <th>4</th>\n      <td>2012-01-01 04:00:00</td>\n      <td>4275.5</td>\n      <td>0.0</td>\n      <td>42.61</td>\n    </tr>\n  </tbody>\n</table>\n</div>"
          },
          "metadata": {}
        }
      ],
      "execution_count": 13,
      "metadata": {
        "jupyter": {
          "source_hidden": false,
          "outputs_hidden": false
        },
        "nteract": {
          "transient": {
            "deleting": false
          }
        },
        "gather": {
          "logged": 1656363555577
        }
      }
    },
    {
      "cell_type": "code",
      "source": [
        "#define the target column\r\n",
        "target_column_name = \"demand\"\r\n",
        "#temporal structure\r\n",
        "time_column_name = \"timeStamp\""
      ],
      "outputs": [],
      "execution_count": 14,
      "metadata": {
        "jupyter": {
          "source_hidden": false,
          "outputs_hidden": false
        },
        "nteract": {
          "transient": {
            "deleting": false
          }
        },
        "gather": {
          "logged": 1656363556953
        }
      }
    },
    {
      "cell_type": "code",
      "source": [
        "#define horizon\r\n",
        "max_horizon = 24"
      ],
      "outputs": [],
      "execution_count": 15,
      "metadata": {
        "gather": {
          "logged": 1656363559704
        }
      }
    },
    {
      "cell_type": "markdown",
      "source": [
        "## 2. Model\r\n",
        "`AutoMLConfig` class to define the settings and data necessary for an AutoML task:  \r\n",
        "- define std training params (i.e. task type, # of iterations, training data, # of cross-validations)  \r\n",
        "- for ts forecasting, add'l params that affect the experiment"
      ],
      "metadata": {
        "nteract": {
          "transient": {
            "deleting": false
          }
        }
      }
    },
    {
      "cell_type": "code",
      "source": [
        "#AutoML config\n",
        "automl_settings = {\n",
        "    \"time_column_name\": time_column_name,\n",
        "    \"max_horizon\": max_horizon,\n",
        "}\n",
        "\n",
        "automl_config = AutoMLConfig(\n",
        "    task=\"forecasting\",\n",
        "    primary_metric=\"normalized_root_mean_squared_error\",\n",
        "    blocked_models=[\"ExtremeRandomTrees\", \"AutoArima\", \"Prophet\"],\n",
        "    experiment_timeout_hours=0.3,\n",
        "    training_data=train,\n",
        "    label_column_name=target_column_name,\n",
        "    compute_target=compute_target,\n",
        "    enable_early_stopping=True,\n",
        "    n_cross_validations=3,\n",
        "    verbosity=logging.INFO,\n",
        "    **automl_settings\n",
        ")"
      ],
      "outputs": [],
      "execution_count": 16,
      "metadata": {
        "gather": {
          "logged": 1656363561084
        }
      }
    },
    {
      "cell_type": "markdown",
      "source": [
        "### 2.1 Run experiment  \r\n",
        "may specify `show_output = True` to print currently running iterations\r\n",
        "\r\n",
        "`AutoMLRun` Class represents an automated ML experiment run in Azure ML; it can be used to manage a run, check run status, and retrieve run details once an AutoML run is submitted.  \r\n",
        "Refer to https://docs.microsoft.com/en-us/python/api/azureml-train-automl-client/azureml.train.automl.run.automlrun?view=azure-ml-py"
      ],
      "metadata": {
        "nteract": {
          "transient": {
            "deleting": false
          }
        }
      }
    },
    {
      "cell_type": "code",
      "source": [
        "#initiate the remote run - show_output=True w/ all details\r\n",
        "remote_run = experiment.submit(automl_config, show_output=True) #class azureml.train.automl.run.AutoMLRun"
      ],
      "outputs": [
        {
          "output_type": "stream",
          "name": "stdout",
          "text": "Submitting remote run.\nNo run_configuration provided, running on anya-tsf-cluster with default configuration\nRunning on remote compute: anya-tsf-cluster\n"
        },
        {
          "output_type": "display_data",
          "data": {
            "text/plain": "<IPython.core.display.HTML object>",
            "text/html": "<table style=\"width:100%\"><tr><th>Experiment</th><th>Id</th><th>Type</th><th>Status</th><th>Details Page</th><th>Docs Page</th></tr><tr><td>automatedML-timeseriesforecasting_test3</td><td>AutoML_90dd722a-c63f-472c-b44d-652da1cfede4</td><td>automl</td><td>NotStarted</td><td><a href=\"https://ml.azure.com/runs/AutoML_90dd722a-c63f-472c-b44d-652da1cfede4?wsid=/subscriptions/fc6452b7-4cd2-44c5-afc2-cd5b46110d92/resourcegroups/usw2-ent-rg-001/workspaces/anya-ml&amp;tid=fe7654e8-131d-4caa-be5c-31e128506c40\" target=\"_blank\" rel=\"noopener\">Link to Azure Machine Learning studio</a></td><td><a href=\"https://docs.microsoft.com/en-us/python/api/overview/azure/ml/intro?view=azure-ml-py\" target=\"_blank\" rel=\"noopener\">Link to Documentation</a></td></tr></table>"
          },
          "metadata": {}
        },
        {
          "output_type": "stream",
          "name": "stdout",
          "text": "\nCurrent status: DatasetFeaturization. Beginning to featurize the CV split.\nCurrent status: ModelSelection. Beginning model selection.\n\n********************************************************************************************\nDATA GUARDRAILS: \n\nTYPE:         Time Series ID detection\nSTATUS:       PASSED\nDESCRIPTION:  The data set was analyzed, and no duplicate time index were detected.\n              Learn more about time-series forecasting configurations: https://aka.ms/AutomatedMLForecastingConfiguration\n\n********************************************************************************************\n\nTYPE:         Short series handling\nSTATUS:       PASSED\nDESCRIPTION:  Automated ML detected enough data points for each series in the input data to continue with training.\n              \n\n********************************************************************************************\n\nTYPE:         Frequency detection\nSTATUS:       PASSED\nDESCRIPTION:  The time series was analyzed, all data points are aligned with detected frequency.\n              \n\n********************************************************************************************\n\nTYPE:         Missing feature values imputation\nSTATUS:       DONE\nDESCRIPTION:  If the missing values are expected, let the run complete. Otherwise cancel the current run and use a script to customize the handling of missing feature values that may be more appropriate based on the data type and business requirement.\n              Learn more about missing value imputation: https://aka.ms/AutomatedMLFeaturization\nDETAILS:      \n+------------------------------+------------------------------+------------------------------+\n|Column name                   |Missing value count           |Imputation type               |\n+==============================+==============================+==============================+\n|precip                        |230                           |median                        |\n|temp                          |186                           |median                        |\n+------------------------------+------------------------------+------------------------------+\n\n********************************************************************************************\n\n********************************************************************************************\nITER: The iteration being evaluated.\nPIPELINE: A summary description of the pipeline being evaluated.\nDURATION: Time taken for the current iteration.\nMETRIC: The result of computing score on the fitted pipeline.\nBEST: The best observed score thus far.\n********************************************************************************************\n\n ITER   PIPELINE                                       DURATION            METRIC      BEST\n    0    Naive                                         0:00:11             0.1711    0.1711\n    1    SeasonalNaive                                 0:00:11             0.1060    0.1060\n    2    Average                                       0:00:11             0.1058    0.1058\n    3    SeasonalAverage                               0:00:11             0.1264    0.1058\n    4    ExponentialSmoothing                          0:03:29             0.0570    0.0570\n    5    Arimax                                        0:14:53                nan    0.0570\n    6                                                  0:19:28                nan    0.0570\n    7                                                  0:19:28                nan    0.0570\n    8                                                  0:19:28                nan    0.0570\n    9                                                  0:19:27                nan    0.0570\n   10                                                  0:19:27                nan    0.0570\n   11                                                  0:19:27                nan    0.0570\n   12                                                  0:19:26                nan    0.0570\n   13                                                  0:19:25                nan    0.0570\n   14                                                  0:19:25                nan    0.0570\n   15                                                  0:19:25                nan    0.0570\n   16                                                  0:19:24                nan    0.0570\n   17                                                  0:19:23                nan    0.0570\n   18                                                  0:19:24                nan    0.0570\n   19                                                  0:19:23                nan    0.0570\n   20    VotingEnsemble                                0:00:04             0.0567    0.0567\n"
        }
      ],
      "execution_count": 17,
      "metadata": {
        "gather": {
          "logged": 1656365225311
        }
      }
    },
    {
      "cell_type": "code",
      "source": [
        "#$config -> $donot\r\n",
        "remote_run.wait_for_completion()"
      ],
      "outputs": [],
      "execution_count": null,
      "metadata": {
        "gather": {
          "logged": 1656365228133
        }
      }
    },
    {
      "cell_type": "markdown",
      "source": [
        "$error: WARNING:root:The model you attempted to retrieve requires 'azureml-train-automl-runtime' to be installed at '==1.42.0.post1'. Please install 'azureml-train-automl-runtime==1.42.0.post1' (e.g. `pip install azureml-train-automl-runtime==1.42.0.post1`) and then rerun the previous command.  \r\n",
        "\r\n",
        "Next step requires  \r\n",
        "`pip install azureml-train-automl-runtime==1.42.0.post1`"
      ],
      "metadata": {
        "nteract": {
          "transient": {
            "deleting": false
          }
        }
      }
    },
    {
      "cell_type": "code",
      "source": [
        "#retrive the best model\n",
        "best_run, fitted_model = remote_run.get_output()\n",
        "fitted_model.steps"
      ],
      "outputs": [
        {
          "output_type": "execute_result",
          "execution_count": 19,
          "data": {
            "text/plain": "[('timeseriestransformer',\n  TimeSeriesTransformer(country_or_region=None, drop_column_names=[], featurization_config=FeaturizationConfig(blocked_transformers=None, column_purposes=None, dataset_language=None, prediction_transform_type=None, transformer_params=None), force_time_index_features=None, freq='H', grain_column_names=['_automl_dummy_grain_col'], group=None, lookback_features_removed=False, max_horizon=24, origin_time_colname='origin', pipeline=Pipeline(memory=None, steps=[('make_numeric_na_dummies', MissingDummiesTransformer(numerical_columns=['precip', 'temp'])), ('impute_na_numeric_datetime', TimeSeriesImputer(end=None, freq='H', impute_by_horizon=False, input_column=['precip', 'temp'], limit=None, limit_direction='forward', method=OrderedDict([('ffill', [])]), option='fillna', order=None, origin=None, value={'precip': 0.0, 'temp': 56.19})), ('grain_dropper', ShortGrainDropper(cv_step_size=1, max_horizon=24, n_cross_validations=3, target_lags=[0], target_rolling_window_size=0)), ('restore_dtypes_transform', RestoreDtypesTransformer(dtypes={'temp': dtype('float64'), '_automl_target_col': dtype('float64'), 'precip': dtype('float64')}, target_column='_automl_target_col')), ('make_categoricals_numeric', NumericalizeTransformer(categories_by_col={}, exclude_columns=set(), include_columns=set())), ('make_time_index_featuers', TimeIndexFeaturizer(correlation_cutoff=0.99, country_or_region=None, datetime_columns=None, force_feature_list=None, freq='H', holiday_end_time=None, holiday_start_time=None, overwrite_columns=True, prune_features=True)), ('make_categoricals_onehot', CategoryBinarizer(columns=[], drop_first=False, dummy_na=False, encode_all_categoricals=False, prefix=None, prefix_sep='_'))], verbose=False), pipeline_type=TimeSeriesPipelineType.FULL, seasonality=24, time_column_name='timeStamp', time_index_non_holiday_features=['_automl_year', '_automl_half', '_automl_quarter', '_automl_month', '_automl_day', '_automl_hour', '_automl_am_pm', '_automl_hour12', '_automl_wday', '_automl_qday', '_automl_week'], use_stl=None)),\n ('prefittedsoftvotingregressor',\n  PreFittedSoftVotingRegressor(estimators=[('4', Pipeline(memory=None, steps=[('exponentialsmoothing', ExponentialSmoothing(timeseries_param_dict={'time_column_name': 'timeStamp', 'grain_column_names': None, 'drop_column_names': [], 'overwrite_columns': True, 'dropna': False, 'transform_dictionary': {'min': '_automl_target_col', 'max': '_automl_target_col', 'mean': '_automl_target_col'}, 'max_horizon': 24, 'origin_time_colname': 'origin', 'country_or_region': None, 'n_cross_validations': 3, 'short_series_handling': True, 'max_cores_per_iteration': 1, 'feature_lags': None, 'target_aggregation_function': None, 'cv_step_size': 1, 'seasonality': 24, 'use_stl': None, 'freq': 'H', 'short_series_handling_configuration': 'auto', 'target_lags': [0], 'target_rolling_window_size': 0, 'arimax_raw_columns': ['timeStamp', 'temp', 'precip']}))], verbose=False)), ('2', Pipeline(memory=None, steps=[('average', Average(timeseries_param_dict={'time_column_name': 'timeStamp', 'grain_column_names': None, 'drop_column_names': [], 'overwrite_columns': True, 'dropna': False, 'transform_dictionary': {'min': '_automl_target_col', 'max': '_automl_target_col', 'mean': '_automl_target_col'}, 'max_horizon': 24, 'origin_time_colname': 'origin', 'country_or_region': None, 'n_cross_validations': 3, 'short_series_handling': True, 'max_cores_per_iteration': 1, 'feature_lags': None, 'target_aggregation_function': None, 'cv_step_size': 1, 'seasonality': 24, 'use_stl': None, 'freq': 'H', 'short_series_handling_configuration': 'auto', 'target_lags': [0], 'target_rolling_window_size': 0, 'arimax_raw_columns': ['timeStamp', 'temp', 'precip']}))], verbose=False))], weights=[0.9333333333333333, 0.06666666666666667]))]"
          },
          "metadata": {}
        }
      ],
      "execution_count": 19,
      "metadata": {
        "gather": {
          "logged": 1656365230915
        }
      }
    },
    {
      "cell_type": "code",
      "source": [
        "fitted_model.__class__, best_run.__class__"
      ],
      "outputs": [
        {
          "output_type": "execute_result",
          "execution_count": 21,
          "data": {
            "text/plain": "(azureml.automl.runtime.shared.model_wrappers.ForecastingPipelineWrapper,\n azureml.core.run.Run)"
          },
          "metadata": {}
        }
      ],
      "execution_count": 21,
      "metadata": {
        "jupyter": {
          "source_hidden": false,
          "outputs_hidden": false
        },
        "nteract": {
          "transient": {
            "deleting": false
          }
        },
        "gather": {
          "logged": 1656365236381
        }
      }
    },
    {
      "cell_type": "markdown",
      "source": [
        "Doc on `ForecastingPipelineWrapper Class`  \r\n",
        "Refer to https://docs.microsoft.com/en-us/python/api/azureml-automl-runtime/azureml.automl.runtime.shared.model_wrappers.forecastingpipelinewrapper?view=azure-ml-py\r\n"
      ],
      "metadata": {
        "nteract": {
          "transient": {
            "deleting": false
          }
        }
      }
    },
    {
      "cell_type": "markdown",
      "source": [
        "##### Features\r\n",
        "View details from the feature engineering process"
      ],
      "metadata": {
        "nteract": {
          "transient": {
            "deleting": false
          }
        }
      }
    },
    {
      "cell_type": "code",
      "source": [
        "#get the featurization summary as JSON list\n",
        "featurization_summary = fitted_model.named_steps[\n",
        "    \"timeseriestransformer\"\n",
        "].get_featurization_summary()\n",
        "\n",
        "pd.DataFrame.from_records(featurization_summary)"
      ],
      "outputs": [
        {
          "output_type": "execute_result",
          "execution_count": 20,
          "data": {
            "text/plain": "       RawFeatureName TypeDetected Dropped  EngineeredFeatureCount  \\\n0  precip              Numeric      No      2                        \n1  temp                Numeric      No      2                        \n2  _automl_target_col  Numeric      No      1                        \n3  timeStamp           DateTime     No      11                       \n\n                     Transformations  \n0  [MedianImputer, ImputationMarker]  \n1  [MedianImputer, ImputationMarker]  \n2  [ImputationMarker]                 \n3  [DateTimeTransformer]              ",
            "text/html": "<div>\n<style scoped>\n    .dataframe tbody tr th:only-of-type {\n        vertical-align: middle;\n    }\n\n    .dataframe tbody tr th {\n        vertical-align: top;\n    }\n\n    .dataframe thead th {\n        text-align: right;\n    }\n</style>\n<table border=\"1\" class=\"dataframe\">\n  <thead>\n    <tr style=\"text-align: right;\">\n      <th></th>\n      <th>RawFeatureName</th>\n      <th>TypeDetected</th>\n      <th>Dropped</th>\n      <th>EngineeredFeatureCount</th>\n      <th>Transformations</th>\n    </tr>\n  </thead>\n  <tbody>\n    <tr>\n      <th>0</th>\n      <td>precip</td>\n      <td>Numeric</td>\n      <td>No</td>\n      <td>2</td>\n      <td>[MedianImputer, ImputationMarker]</td>\n    </tr>\n    <tr>\n      <th>1</th>\n      <td>temp</td>\n      <td>Numeric</td>\n      <td>No</td>\n      <td>2</td>\n      <td>[MedianImputer, ImputationMarker]</td>\n    </tr>\n    <tr>\n      <th>2</th>\n      <td>_automl_target_col</td>\n      <td>Numeric</td>\n      <td>No</td>\n      <td>1</td>\n      <td>[ImputationMarker]</td>\n    </tr>\n    <tr>\n      <th>3</th>\n      <td>timeStamp</td>\n      <td>DateTime</td>\n      <td>No</td>\n      <td>11</td>\n      <td>[DateTimeTransformer]</td>\n    </tr>\n  </tbody>\n</table>\n</div>"
          },
          "metadata": {}
        }
      ],
      "execution_count": 20,
      "metadata": {
        "gather": {
          "logged": 1656365233595
        }
      }
    },
    {
      "cell_type": "markdown",
      "source": [
        "### 2.2 Experiment details\r\n",
        "`AutoMLRun` Class represents an automated ML experiment run in Azure ML.  \r\n",
        "Refer to https://docs.microsoft.com/en-us/python/api/azureml-train-automl-client/azureml.train.automl.run.automlrun?view=azure-ml-py\r\n"
      ],
      "metadata": {
        "nteract": {
          "transient": {
            "deleting": false
          }
        }
      }
    },
    {
      "cell_type": "code",
      "source": [
        "#$mynote: no details really\r\n",
        "remote_run.summary "
      ],
      "outputs": [
        {
          "output_type": "execute_result",
          "execution_count": 47,
          "data": {
            "text/plain": "<bound method AutoMLRun.summary of Run(Experiment: automatedML-timeseriesforecasting_test3,\nId: AutoML_90dd722a-c63f-472c-b44d-652da1cfede4,\nType: automl,\nStatus: Completed)>"
          },
          "metadata": {}
        }
      ],
      "execution_count": 47,
      "metadata": {
        "jupyter": {
          "source_hidden": false,
          "outputs_hidden": false
        },
        "nteract": {
          "transient": {
            "deleting": false
          }
        },
        "gather": {
          "logged": 1656374549680
        }
      }
    },
    {
      "cell_type": "markdown",
      "source": [
        "`Run` Class defines the base class for all Azure Machine Learning experiment runs.  \r\n",
        "A run represents a single trial of an experiment. Runs are used to monitor the asynchronous execution of a trial, log metrics and store output of the trial, and to analyze results and access artifacts generated by the trial.\r\n",
        "\r\n",
        "Refer to https://docs.microsoft.com/en-us/python/api/azureml-core/azureml.core.run.run?view=azure-ml-py\r\n",
        "\r\n",
        "##### Get Train Metrics\r\n",
        "best run vs all runs"
      ],
      "metadata": {
        "nteract": {
          "transient": {
            "deleting": false
          }
        }
      }
    },
    {
      "cell_type": "code",
      "source": [
        "#$my\r\n",
        "metrics = best_run.get_metrics() #returns a dict containing the users metrics\r\n",
        "metrics"
      ],
      "outputs": [
        {
          "output_type": "execute_result",
          "execution_count": 49,
          "data": {
            "text/plain": "{'mean_absolute_percentage_error': 6.876252300582766,\n 'normalized_root_mean_squared_error': 0.05670203028960704,\n 'root_mean_squared_log_error': 0.07749021381175057,\n 'r2_score': 0.6792682393466274,\n 'median_absolute_error': 420.2671315558876,\n 'root_mean_squared_error': 487.4333331815779,\n 'mean_absolute_error': 432.22897296304444,\n 'normalized_median_absolute_error': 0.04888873616349724,\n 'spearman_correlation': 0.7130434782608694,\n 'normalized_mean_absolute_error': 0.05028023044100372,\n 'explained_variance': 0.7046458551348835,\n 'normalized_root_mean_squared_log_error': 0.05584600525989419,\n 'predicted_true': 'aml://artifactId/ExperimentRun/dcid.AutoML_90dd722a-c63f-472c-b44d-652da1cfede4_20/predicted_true',\n 'residuals': 'aml://artifactId/ExperimentRun/dcid.AutoML_90dd722a-c63f-472c-b44d-652da1cfede4_20/residuals',\n 'forecast_table': 'aml://artifactId/ExperimentRun/dcid.AutoML_90dd722a-c63f-472c-b44d-652da1cfede4_20/forecast_table'}"
          },
          "metadata": {}
        }
      ],
      "execution_count": 49,
      "metadata": {
        "jupyter": {
          "source_hidden": false,
          "outputs_hidden": false
        },
        "nteract": {
          "transient": {
            "deleting": false
          }
        },
        "gather": {
          "logged": 1656375041241
        }
      }
    },
    {
      "cell_type": "markdown",
      "source": [
        "Metrics must match (UI vs code) \r\n",
        "![Metrics must match](../vis/AML_ts_regression_model_best_algoVotingEnsemble_metrics2.PNG)"
      ],
      "metadata": {
        "nteract": {
          "transient": {
            "deleting": false
          }
        }
      }
    },
    {
      "cell_type": "code",
      "source": [
        "#$my if need all models metrics\r\n",
        "#metrics = remote_run.get_metrics(recursive=True) "
      ],
      "outputs": [],
      "execution_count": null,
      "metadata": {
        "jupyter": {
          "source_hidden": false,
          "outputs_hidden": false
        },
        "nteract": {
          "transient": {
            "deleting": false
          }
        },
        "gather": {
          "logged": 1656374091375
        }
      }
    },
    {
      "cell_type": "markdown",
      "source": [
        "\r\n",
        "## 3. Predict\r\n",
        "Now with the retrieved best model, make predictions on test data.  Use `forecast` for 24 hours forecasting."
      ],
      "metadata": {
        "nteract": {
          "transient": {
            "deleting": false
          }
        }
      }
    },
    {
      "cell_type": "code",
      "source": [
        "#predict using test data\n",
        "X_test = df_test\n",
        "#remove target var\n",
        "y_test = X_test.pop(target_column_name).values\n",
        "\n",
        "#preview\n",
        "X_test.head(), y_test[:5]"
      ],
      "outputs": [
        {
          "output_type": "execute_result",
          "execution_count": 50,
          "data": {
            "text/plain": "(             timeStamp  precip  temp\n 0  2017-08-08 06:00:00 0.00    66.17\n 1  2017-08-08 07:00:00 0.00    66.29\n 2  2017-08-08 08:00:00 0.00    66.72\n 3  2017-08-08 09:00:00 0.00    67.37\n 4  2017-08-08 10:00:00 0.00    68.30,\n array([5590.992, 6147.033, 6592.425, 6874.533, 7010.542]))"
          },
          "metadata": {}
        }
      ],
      "execution_count": 50,
      "metadata": {
        "gather": {
          "logged": 1656375889531
        }
      }
    },
    {
      "cell_type": "code",
      "source": [
        "#apply `forecast` fn\r\n",
        "y_predictions, X_trans = fitted_model.forecast(X_test)\r\n",
        "\r\n",
        "#preview forecast results\r\n",
        "print(y_predictions[:5]) #class numpy.ndarray\r\n",
        "print(X_trans.shape) #class pandas.core.frame.DataFrame\r\n",
        "X_trans.head()"
      ],
      "outputs": [
        {
          "output_type": "stream",
          "name": "stdout",
          "text": "[5363.32378746 5675.62967777 5976.68091382 6212.90967383 6411.79650071]\n(48, 17)\n"
        },
        {
          "output_type": "execute_result",
          "execution_count": 51,
          "data": {
            "text/plain": "                                             precip  temp  \\\ntimeStamp           _automl_dummy_grain_col                 \n2017-08-08 06:00:00 _automl_dummy_grain_col 0.00    66.17   \n2017-08-08 07:00:00 _automl_dummy_grain_col 0.00    66.29   \n2017-08-08 08:00:00 _automl_dummy_grain_col 0.00    66.72   \n2017-08-08 09:00:00 _automl_dummy_grain_col 0.00    67.37   \n2017-08-08 10:00:00 _automl_dummy_grain_col 0.00    68.30   \n\n                                             _automl_target_col_WASNULL  \\\ntimeStamp           _automl_dummy_grain_col                               \n2017-08-08 06:00:00 _automl_dummy_grain_col  0                            \n2017-08-08 07:00:00 _automl_dummy_grain_col  0                            \n2017-08-08 08:00:00 _automl_dummy_grain_col  0                            \n2017-08-08 09:00:00 _automl_dummy_grain_col  0                            \n2017-08-08 10:00:00 _automl_dummy_grain_col  0                            \n\n                                             precip_WASNULL  temp_WASNULL  \\\ntimeStamp           _automl_dummy_grain_col                                 \n2017-08-08 06:00:00 _automl_dummy_grain_col  0               0              \n2017-08-08 07:00:00 _automl_dummy_grain_col  0               0              \n2017-08-08 08:00:00 _automl_dummy_grain_col  0               0              \n2017-08-08 09:00:00 _automl_dummy_grain_col  0               0              \n2017-08-08 10:00:00 _automl_dummy_grain_col  0               0              \n\n                                             _automl_year  _automl_half  \\\ntimeStamp           _automl_dummy_grain_col                               \n2017-08-08 06:00:00 _automl_dummy_grain_col  2017          2              \n2017-08-08 07:00:00 _automl_dummy_grain_col  2017          2              \n2017-08-08 08:00:00 _automl_dummy_grain_col  2017          2              \n2017-08-08 09:00:00 _automl_dummy_grain_col  2017          2              \n2017-08-08 10:00:00 _automl_dummy_grain_col  2017          2              \n\n                                             _automl_quarter  _automl_month  \\\ntimeStamp           _automl_dummy_grain_col                                   \n2017-08-08 06:00:00 _automl_dummy_grain_col  3                8               \n2017-08-08 07:00:00 _automl_dummy_grain_col  3                8               \n2017-08-08 08:00:00 _automl_dummy_grain_col  3                8               \n2017-08-08 09:00:00 _automl_dummy_grain_col  3                8               \n2017-08-08 10:00:00 _automl_dummy_grain_col  3                8               \n\n                                             _automl_day  _automl_hour  \\\ntimeStamp           _automl_dummy_grain_col                              \n2017-08-08 06:00:00 _automl_dummy_grain_col  8            6              \n2017-08-08 07:00:00 _automl_dummy_grain_col  8            7              \n2017-08-08 08:00:00 _automl_dummy_grain_col  8            8              \n2017-08-08 09:00:00 _automl_dummy_grain_col  8            9              \n2017-08-08 10:00:00 _automl_dummy_grain_col  8            10             \n\n                                             _automl_am_pm  _automl_hour12  \\\ntimeStamp           _automl_dummy_grain_col                                  \n2017-08-08 06:00:00 _automl_dummy_grain_col  0              6                \n2017-08-08 07:00:00 _automl_dummy_grain_col  0              7                \n2017-08-08 08:00:00 _automl_dummy_grain_col  0              8                \n2017-08-08 09:00:00 _automl_dummy_grain_col  0              9                \n2017-08-08 10:00:00 _automl_dummy_grain_col  0              10               \n\n                                             _automl_wday  _automl_qday  \\\ntimeStamp           _automl_dummy_grain_col                               \n2017-08-08 06:00:00 _automl_dummy_grain_col  1             39             \n2017-08-08 07:00:00 _automl_dummy_grain_col  1             39             \n2017-08-08 08:00:00 _automl_dummy_grain_col  1             39             \n2017-08-08 09:00:00 _automl_dummy_grain_col  1             39             \n2017-08-08 10:00:00 _automl_dummy_grain_col  1             39             \n\n                                             _automl_week  _automl_target_col  \ntimeStamp           _automl_dummy_grain_col                                    \n2017-08-08 06:00:00 _automl_dummy_grain_col  32           5363.32              \n2017-08-08 07:00:00 _automl_dummy_grain_col  32           5675.63              \n2017-08-08 08:00:00 _automl_dummy_grain_col  32           5976.68              \n2017-08-08 09:00:00 _automl_dummy_grain_col  32           6212.91              \n2017-08-08 10:00:00 _automl_dummy_grain_col  32           6411.80              ",
            "text/html": "<div>\n<style scoped>\n    .dataframe tbody tr th:only-of-type {\n        vertical-align: middle;\n    }\n\n    .dataframe tbody tr th {\n        vertical-align: top;\n    }\n\n    .dataframe thead th {\n        text-align: right;\n    }\n</style>\n<table border=\"1\" class=\"dataframe\">\n  <thead>\n    <tr style=\"text-align: right;\">\n      <th></th>\n      <th></th>\n      <th>precip</th>\n      <th>temp</th>\n      <th>_automl_target_col_WASNULL</th>\n      <th>precip_WASNULL</th>\n      <th>temp_WASNULL</th>\n      <th>_automl_year</th>\n      <th>_automl_half</th>\n      <th>_automl_quarter</th>\n      <th>_automl_month</th>\n      <th>_automl_day</th>\n      <th>_automl_hour</th>\n      <th>_automl_am_pm</th>\n      <th>_automl_hour12</th>\n      <th>_automl_wday</th>\n      <th>_automl_qday</th>\n      <th>_automl_week</th>\n      <th>_automl_target_col</th>\n    </tr>\n    <tr>\n      <th>timeStamp</th>\n      <th>_automl_dummy_grain_col</th>\n      <th></th>\n      <th></th>\n      <th></th>\n      <th></th>\n      <th></th>\n      <th></th>\n      <th></th>\n      <th></th>\n      <th></th>\n      <th></th>\n      <th></th>\n      <th></th>\n      <th></th>\n      <th></th>\n      <th></th>\n      <th></th>\n      <th></th>\n    </tr>\n  </thead>\n  <tbody>\n    <tr>\n      <th>2017-08-08 06:00:00</th>\n      <th>_automl_dummy_grain_col</th>\n      <td>0.00</td>\n      <td>66.17</td>\n      <td>0</td>\n      <td>0</td>\n      <td>0</td>\n      <td>2017</td>\n      <td>2</td>\n      <td>3</td>\n      <td>8</td>\n      <td>8</td>\n      <td>6</td>\n      <td>0</td>\n      <td>6</td>\n      <td>1</td>\n      <td>39</td>\n      <td>32</td>\n      <td>5363.32</td>\n    </tr>\n    <tr>\n      <th>2017-08-08 07:00:00</th>\n      <th>_automl_dummy_grain_col</th>\n      <td>0.00</td>\n      <td>66.29</td>\n      <td>0</td>\n      <td>0</td>\n      <td>0</td>\n      <td>2017</td>\n      <td>2</td>\n      <td>3</td>\n      <td>8</td>\n      <td>8</td>\n      <td>7</td>\n      <td>0</td>\n      <td>7</td>\n      <td>1</td>\n      <td>39</td>\n      <td>32</td>\n      <td>5675.63</td>\n    </tr>\n    <tr>\n      <th>2017-08-08 08:00:00</th>\n      <th>_automl_dummy_grain_col</th>\n      <td>0.00</td>\n      <td>66.72</td>\n      <td>0</td>\n      <td>0</td>\n      <td>0</td>\n      <td>2017</td>\n      <td>2</td>\n      <td>3</td>\n      <td>8</td>\n      <td>8</td>\n      <td>8</td>\n      <td>0</td>\n      <td>8</td>\n      <td>1</td>\n      <td>39</td>\n      <td>32</td>\n      <td>5976.68</td>\n    </tr>\n    <tr>\n      <th>2017-08-08 09:00:00</th>\n      <th>_automl_dummy_grain_col</th>\n      <td>0.00</td>\n      <td>67.37</td>\n      <td>0</td>\n      <td>0</td>\n      <td>0</td>\n      <td>2017</td>\n      <td>2</td>\n      <td>3</td>\n      <td>8</td>\n      <td>8</td>\n      <td>9</td>\n      <td>0</td>\n      <td>9</td>\n      <td>1</td>\n      <td>39</td>\n      <td>32</td>\n      <td>6212.91</td>\n    </tr>\n    <tr>\n      <th>2017-08-08 10:00:00</th>\n      <th>_automl_dummy_grain_col</th>\n      <td>0.00</td>\n      <td>68.30</td>\n      <td>0</td>\n      <td>0</td>\n      <td>0</td>\n      <td>2017</td>\n      <td>2</td>\n      <td>3</td>\n      <td>8</td>\n      <td>8</td>\n      <td>10</td>\n      <td>0</td>\n      <td>10</td>\n      <td>1</td>\n      <td>39</td>\n      <td>32</td>\n      <td>6411.80</td>\n    </tr>\n  </tbody>\n</table>\n</div>"
          },
          "metadata": {}
        }
      ],
      "execution_count": 51,
      "metadata": {
        "gather": {
          "logged": 1656375893565
        }
      }
    },
    {
      "cell_type": "markdown",
      "source": [
        "### 3.1 Evaluation\r\n",
        "Evaluate the accuracy of the forecast: compare against the actual energy values and use MAPE metric.   \r\n"
      ],
      "metadata": {
        "nteract": {
          "transient": {
            "deleting": false
          }
        }
      }
    },
    {
      "cell_type": "code",
      "source": [
        "#line up the output explicitly to the input\n",
        "#$delta from common.forecasting_helper import align_outputs\n",
        "from forecasting_helper import align_outputs\n",
        "\n",
        "ts_results_all = align_outputs(y_predictions, X_trans, X_test, y_test, target_column_name) #class pandas.core.frame.DataFrame\n",
        "ts_results_all.head()"
      ],
      "outputs": [
        {
          "output_type": "execute_result",
          "execution_count": 52,
          "data": {
            "text/plain": "            timeStamp  _automl_dummy_grain_col  predicted  precip  temp  \\\n0 2017-08-08 06:00:00  _automl_dummy_grain_col 5363.32    0.00    66.17   \n1 2017-08-08 07:00:00  _automl_dummy_grain_col 5675.63    0.00    66.29   \n2 2017-08-08 08:00:00  _automl_dummy_grain_col 5976.68    0.00    66.72   \n3 2017-08-08 09:00:00  _automl_dummy_grain_col 6212.91    0.00    67.37   \n4 2017-08-08 10:00:00  _automl_dummy_grain_col 6411.80    0.00    68.30   \n\n   demand  \n0 5590.99  \n1 6147.03  \n2 6592.43  \n3 6874.53  \n4 7010.54  ",
            "text/html": "<div>\n<style scoped>\n    .dataframe tbody tr th:only-of-type {\n        vertical-align: middle;\n    }\n\n    .dataframe tbody tr th {\n        vertical-align: top;\n    }\n\n    .dataframe thead th {\n        text-align: right;\n    }\n</style>\n<table border=\"1\" class=\"dataframe\">\n  <thead>\n    <tr style=\"text-align: right;\">\n      <th></th>\n      <th>timeStamp</th>\n      <th>_automl_dummy_grain_col</th>\n      <th>predicted</th>\n      <th>precip</th>\n      <th>temp</th>\n      <th>demand</th>\n    </tr>\n  </thead>\n  <tbody>\n    <tr>\n      <th>0</th>\n      <td>2017-08-08 06:00:00</td>\n      <td>_automl_dummy_grain_col</td>\n      <td>5363.32</td>\n      <td>0.00</td>\n      <td>66.17</td>\n      <td>5590.99</td>\n    </tr>\n    <tr>\n      <th>1</th>\n      <td>2017-08-08 07:00:00</td>\n      <td>_automl_dummy_grain_col</td>\n      <td>5675.63</td>\n      <td>0.00</td>\n      <td>66.29</td>\n      <td>6147.03</td>\n    </tr>\n    <tr>\n      <th>2</th>\n      <td>2017-08-08 08:00:00</td>\n      <td>_automl_dummy_grain_col</td>\n      <td>5976.68</td>\n      <td>0.00</td>\n      <td>66.72</td>\n      <td>6592.43</td>\n    </tr>\n    <tr>\n      <th>3</th>\n      <td>2017-08-08 09:00:00</td>\n      <td>_automl_dummy_grain_col</td>\n      <td>6212.91</td>\n      <td>0.00</td>\n      <td>67.37</td>\n      <td>6874.53</td>\n    </tr>\n    <tr>\n      <th>4</th>\n      <td>2017-08-08 10:00:00</td>\n      <td>_automl_dummy_grain_col</td>\n      <td>6411.80</td>\n      <td>0.00</td>\n      <td>68.30</td>\n      <td>7010.54</td>\n    </tr>\n  </tbody>\n</table>\n</div>"
          },
          "metadata": {}
        }
      ],
      "execution_count": 52,
      "metadata": {
        "lines_to_next_cell": 0,
        "gather": {
          "logged": 1656375896317
        }
      }
    },
    {
      "cell_type": "markdown",
      "source": [
        "##### Compute Metrics  \r\n",
        "$delta: updated `metrics` Module  \r\n",
        "Refer to https://docs.microsoft.com/en-us/python/api/azureml-automl-runtime/azureml.automl.runtime.shared.metrics?view=azure-ml-py  \r\n",
        "\r\n",
        "$delta2: based on warning `WARNING:root:azureml.automl.runtime.shared.metrics.compute_metrics_regression is deprecated. Please use azureml.automl.runtime.shared.score.scoring.score_regression`\r\n",
        "\r\n",
        "$delta2 actually returns metrics\r\n"
      ],
      "metadata": {
        "nteract": {
          "transient": {
            "deleting": false
          }
        }
      }
    },
    {
      "cell_type": "code",
      "source": [
        "#$deprecated (prints same stuff x3)\r\n",
        "from automl.client.core.common import constants\r\n",
        "#$delta from azureml.automl.core._vendor.automl.client.core.common import metrics\r\n",
        "from azureml.automl.runtime.shared import metrics\r\n",
        "\r\n",
        "scores = metrics.compute_metrics_regression(\r\n",
        "    ts_results_all[\"predicted\"],\r\n",
        "    ts_results_all[target_column_name],\r\n",
        "    list(constants.Metric.SCALAR_REGRESSION_SET),\r\n",
        "    None,\r\n",
        "    None,\r\n",
        "    None,\r\n",
        ")\r\n",
        "\r\n",
        "print(\"[Test data scores]\\n\")\r\n",
        "for key, value in scores.items():\r\n",
        "    print(\"{}:   {:.3f}\".format(key, value))"
      ],
      "outputs": [
        {
          "output_type": "stream",
          "name": "stderr",
          "text": "WARNING:root:azureml.automl.runtime.shared.metrics.compute_metrics_regression is deprecated. Please use azureml.automl.runtime.shared.score.scoring.score_regression\n"
        },
        {
          "output_type": "stream",
          "name": "stdout",
          "text": "[Test data scores]\n\nr2_score:   0.608\nroot_mean_squared_log_error:   0.084\nnormalized_root_mean_squared_log_error:   0.172\nmean_absolute_error:   485.332\nnormalized_root_mean_squared_error:   0.185\nnormalized_mean_absolute_error:   0.154\nroot_mean_squared_error:   584.067\nmean_absolute_percentage_error:   6.823\nexplained_variance:   0.856\nmedian_absolute_error:   465.448\nnormalized_median_absolute_error:   0.148\nspearman_correlation:   0.935\n[Test data scores]\n\nr2_score:   0.608\nroot_mean_squared_log_error:   0.084\nnormalized_root_mean_squared_log_error:   0.172\nmean_absolute_error:   485.332\nnormalized_root_mean_squared_error:   0.185\nnormalized_mean_absolute_error:   0.154\nroot_mean_squared_error:   584.067\nmean_absolute_percentage_error:   6.823\nexplained_variance:   0.856\nmedian_absolute_error:   465.448\nnormalized_median_absolute_error:   0.148\nspearman_correlation:   0.935\n[Test data scores]\n\nroot_mean_squared_error:   584.067\nroot_mean_squared_log_error:   0.084\nnormalized_root_mean_squared_log_error:   0.172\nr2_score:   0.608\nmean_absolute_error:   485.332\nnormalized_mean_absolute_error:   0.154\nmean_absolute_percentage_error:   6.823\nmedian_absolute_error:   465.448\nnormalized_root_mean_squared_error:   0.185\nexplained_variance:   0.856\nspearman_correlation:   0.935\nnormalized_median_absolute_error:   0.148\n"
        }
      ],
      "execution_count": 53,
      "metadata": {
        "jupyter": {
          "source_hidden": false,
          "outputs_hidden": false
        },
        "nteract": {
          "transient": {
            "deleting": false
          }
        },
        "gather": {
          "logged": 1656375899136
        }
      }
    },
    {
      "cell_type": "code",
      "source": [
        "#$delta2 based on warning - $issue doesn't get scores\r\n",
        "from azureml.automl.runtime.shared.score.scoring import score_regression\r\n",
        "\r\n",
        "scores = metrics.compute_metrics_regression(\r\n",
        "    ts_results_all[\"predicted\"],\r\n",
        "    ts_results_all[target_column_name],\r\n",
        "    list(constants.Metric.SCALAR_REGRESSION_SET),\r\n",
        "    None,\r\n",
        "    None,\r\n",
        "    None,\r\n",
        ")\r\n",
        "\r\n",
        "print(\"[Test data scores]\\n\")\r\n",
        "for key, value in scores.items():\r\n",
        "    print(\"{}:   {:.3f}\".format(key, value))"
      ],
      "outputs": [
        {
          "output_type": "stream",
          "name": "stderr",
          "text": "WARNING:root:azureml.automl.runtime.shared.metrics.compute_metrics_regression is deprecated. Please use azureml.automl.runtime.shared.score.scoring.score_regression\n"
        }
      ],
      "execution_count": 54,
      "metadata": {
        "jupyter": {
          "source_hidden": false,
          "outputs_hidden": false
        },
        "nteract": {
          "transient": {
            "deleting": false
          }
        },
        "gather": {
          "logged": 1656375903275
        }
      }
    },
    {
      "cell_type": "code",
      "source": [
        "#$my - actually gets scores\r\n",
        "scores = score_regression(\r\n",
        "    ts_results_all[\"predicted\"],\r\n",
        "    ts_results_all[target_column_name],\r\n",
        "    list(constants.Metric.SCALAR_REGRESSION_SET),\r\n",
        "    None,\r\n",
        "    None,\r\n",
        "    None,\r\n",
        ")\r\n",
        "\r\n",
        "print(\"[Test data scores]\\n\")\r\n",
        "for key, value in scores.items():\r\n",
        "    print(\"{}:   {:.3f}\".format(key, value))"
      ],
      "outputs": [
        {
          "output_type": "stream",
          "name": "stdout",
          "text": "[Test data scores]\n\nroot_mean_squared_error:   584.067\nroot_mean_squared_log_error:   0.084\nnormalized_root_mean_squared_log_error:   0.256\nr2_score:   0.243\nmean_absolute_error:   485.332\nnormalized_mean_absolute_error:   0.244\nmean_absolute_percentage_error:   7.517\nmedian_absolute_error:   465.448\nnormalized_root_mean_squared_error:   0.293\nexplained_variance:   0.722\nspearman_correlation:   0.935\nnormalized_median_absolute_error:   0.234\n"
        }
      ],
      "execution_count": 55,
      "metadata": {
        "jupyter": {
          "source_hidden": false,
          "outputs_hidden": false
        },
        "nteract": {
          "transient": {
            "deleting": false
          }
        },
        "gather": {
          "logged": 1656375906004
        }
      }
    },
    {
      "cell_type": "markdown",
      "source": [
        "### Vis"
      ],
      "metadata": {
        "nteract": {
          "transient": {
            "deleting": false
          }
        }
      }
    },
    {
      "cell_type": "code",
      "source": [
        "#$my\r\n",
        "plt.figure(figsize=(10,6))\r\n",
        "test_pred = plt.scatter(ts_results_all[\"timeStamp\"], ts_results_all[\"predicted\"], color=\"b\")\r\n",
        "test_test = plt.scatter(ts_results_all[\"timeStamp\"], ts_results_all[\"demand\"], color=\"g\")\r\n",
        "plt.title(\"Test results: Actual vs Forecast\")\r\n",
        "plt.xlim(ts_results_all[\"timeStamp\"].min(), ts_results_all[\"timeStamp\"].max())\r\n",
        "plt.legend((test_pred, test_test), (\"prediction\", \"truth\"), loc=\"upper left\", fontsize=8)\r\n",
        "plt.show()"
      ],
      "outputs": [
        {
          "output_type": "display_data",
          "data": {
            "text/plain": "<Figure size 720x432 with 1 Axes>",
            "image/png": "[encoded data removed]"
          },
          "metadata": {
            "needs_background": "light"
          }
        }
      ],
      "execution_count": 56,
      "metadata": {
        "jupyter": {
          "source_hidden": false,
          "outputs_hidden": false
        },
        "nteract": {
          "transient": {
            "deleting": false
          }
        },
        "gather": {
          "logged": 1656375908771
        }
      }
    },
    {
      "cell_type": "code",
      "source": [
        "plt.figure(figsize=(8,8))\r\n",
        "test_pred = plt.scatter(ts_results_all[target_column_name], ts_results_all[\"predicted\"], color=\"b\")\r\n",
        "test_test = plt.scatter(ts_results_all[target_column_name], ts_results_all[target_column_name], color=\"g\")\r\n",
        "plt.title(\"Test results: Actual vs Forecast Comparision\")\r\n",
        "plt.legend((test_pred, test_test), (\"prediction\", \"truth\"), loc=\"upper left\", fontsize=8)\r\n",
        "plt.show()"
      ],
      "outputs": [
        {
          "output_type": "display_data",
          "data": {
            "text/plain": "<Figure size 576x576 with 1 Axes>",
            "image/png": "[encoded data removed]"
          },
          "metadata": {
            "needs_background": "light"
          }
        }
      ],
      "execution_count": 57,
      "metadata": {
        "jupyter": {
          "source_hidden": false,
          "outputs_hidden": false
        },
        "nteract": {
          "transient": {
            "deleting": false
          }
        },
        "gather": {
          "logged": 1656375911514
        }
      }
    },
    {
      "cell_type": "code",
      "source": [
        "mystop"
      ],
      "outputs": [
        {
          "output_type": "error",
          "ename": "NameError",
          "evalue": "name 'mystop' is not defined",
          "traceback": [
            "\u001b[0;31m---------------------------------------------------------------------------\u001b[0m",
            "\u001b[0;31mNameError\u001b[0m                                 Traceback (most recent call last)",
            "\u001b[0;32m<ipython-input-58-255d8eb4da7e>\u001b[0m in \u001b[0;36m<module>\u001b[0;34m\u001b[0m\n\u001b[0;32m----> 1\u001b[0;31m \u001b[0mmystop\u001b[0m\u001b[0;34m\u001b[0m\u001b[0;34m\u001b[0m\u001b[0m\n\u001b[0m",
            "\u001b[0;31mNameError\u001b[0m: name 'mystop' is not defined"
          ]
        }
      ],
      "execution_count": 58,
      "metadata": {
        "jupyter": {
          "source_hidden": false,
          "outputs_hidden": false
        },
        "nteract": {
          "transient": {
            "deleting": false
          }
        },
        "gather": {
          "logged": 1656375912874
        }
      }
    },
    {
      "cell_type": "markdown",
      "source": [
        "## Xtra"
      ],
      "metadata": {
        "nteract": {
          "transient": {
            "deleting": false
          }
        }
      }
    },
    {
      "cell_type": "code",
      "source": [
        "$original bits - replaced with data pipeline performed in my4_AML_0_DataSetup.ipynb\r\n",
        "#define the target column\r\n",
        "target_column_name = \"demand\"\r\n",
        "#temporal structure\r\n",
        "time_column_name = \"timeStamp\"\r\n",
        "\r\n",
        "ts_data = Dataset.Tabular.from_delimited_files( #class azureml.data.tabular_dataset.TabularDataset\r\n",
        "    path=\"https://automlsamplenotebookdata.blob.core.windows.net/automl-sample-notebook-data/nyc_energy.csv\"\r\n",
        ").with_timestamp_columns(fine_grain_timestamp=time_column_name)\r\n",
        "\r\n",
        "ts_data.take(5).to_pandas_dataframe().reset_index(drop=True)\r\n",
        "#original automl config - in fact stayed the same due to specif format req for train ds\r\n",
        "automl_config = AutoMLConfig(\r\n",
        "    task=\"forecasting\",\r\n",
        "    primary_metric=\"normalized_root_mean_squared_error\",\r\n",
        "    blocked_models=[\"ExtremeRandomTrees\", \"AutoArima\", \"Prophet\"],\r\n",
        "    experiment_timeout_hours=0.3,\r\n",
        "    training_data=train,\r\n",
        "    label_column_name=target_column_name,\r\n",
        "    compute_target=compute_target,\r\n",
        "    enable_early_stopping=True,\r\n",
        "    n_cross_validations=3,\r\n",
        "    verbosity=logging.INFO,\r\n",
        "    **automl_settings\r\n",
        ")\r\n",
        "\r\n",
        "#$original in predict part\r\n",
        "X_test = test.to_pandas_dataframe().reset_index(drop=True)\r\n",
        "y_test = X_test.pop(target_column_name).values"
      ],
      "outputs": [],
      "execution_count": null,
      "metadata": {
        "jupyter": {
          "source_hidden": false,
          "outputs_hidden": false
        },
        "nteract": {
          "transient": {
            "deleting": false
          }
        },
        "gather": {
          "logged": 1656375913089
        }
      }
    },
    {
      "cell_type": "code",
      "source": [
        "#$xtra $my\r\n",
        "#get info about training\r\n",
        "#refer to https://docs.microsoft.com/en-us/python/api/azureml-train-automl-client/azureml.train.automl.run.automlrun?view=azure-ml-py\r\n",
        "remote_run.get_output(iteration=0)\r\n",
        "remote_run.get_output(iteration=20)\r\n",
        "\r\n",
        "remote_run.get_output(metric='normalized_root_mean_squared_error')\r\n",
        "remote_run.get_output(metric='spearman_correlation')\r\n",
        "\r\n",
        "#If you'd like to inspect the preprocessor(s) and algorithm (estimator) used, you can do so through Model.steps, similar to sklearn.pipeline.Pipeline.steps. \r\n",
        "#For instance, the code below shows how to retrieve the estimator.\r\n",
        "estimator = fitted_model.steps[-1]\r\n",
        "estimator\r\n"
      ],
      "outputs": [],
      "execution_count": null,
      "metadata": {
        "jupyter": {
          "source_hidden": false,
          "outputs_hidden": false
        },
        "nteract": {
          "transient": {
            "deleting": false
          }
        },
        "gather": {
          "logged": 1656375913112
        }
      }
    },
    {
      "cell_type": "code",
      "source": [],
      "outputs": [],
      "execution_count": null,
      "metadata": {
        "jupyter": {
          "source_hidden": false,
          "outputs_hidden": false
        },
        "nteract": {
          "transient": {
            "deleting": false
          }
        }
      }
    }
  ],
  "metadata": {
    "jupytext": {
      "formats": "ipynb,py"
    },
    "kernelspec": {
      "name": "azureml-timeseriesbook",
      "language": "python",
      "display_name": "azureml-timeseriesbook"
    },
    "language_info": {
      "name": "python",
      "version": "3.6.13",
      "mimetype": "text/x-python",
      "codemirror_mode": {
        "name": "ipython",
        "version": 3
      },
      "pygments_lexer": "ipython3",
      "nbconvert_exporter": "python",
      "file_extension": ".py"
    },
    "kernel_info": {
      "name": "azureml-timeseriesbook"
    },
    "nteract": {
      "version": "nteract-front-end@1.0.0"
    },
    "microsoft": {
      "host": {
        "AzureML": {
          "notebookHasBeenCompleted": true
        }
      }
    }
  },
  "nbformat": 4,
  "nbformat_minor": 4
}